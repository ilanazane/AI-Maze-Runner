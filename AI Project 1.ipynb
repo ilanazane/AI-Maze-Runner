{
 "cells": [
  {
   "cell_type": "code",
   "execution_count": 754,
   "metadata": {},
   "outputs": [],
   "source": [
    "import numpy as np\n",
    "import matplotlib.pyplot as plt\n",
    "import random\n",
    "import queue\n",
    "import time\n",
    "from IPython.display import clear_output"
   ]
  },
  {
   "cell_type": "code",
   "execution_count": 783,
   "metadata": {},
   "outputs": [],
   "source": [
    "#Functions that will be very useful for creating/updating mazes\n",
    "\n",
    "'''\n",
    "Define the grid to be working with\n",
    "\n",
    "            **inputs**\n",
    "\n",
    "-dim = dimension size of the grid \n",
    "-p = probability that a grid spot will be filled or open\n",
    "'''\n",
    "\n",
    "def grid(dim, p):\n",
    "    #start with a dim by dim zero array\n",
    "    a = np.zeros((dim,dim))\n",
    "    for item in range(dim):\n",
    "        for thing in range(dim):\n",
    "            #makes sure the top left spot is empty\n",
    "            if item == 0 and thing == 0:\n",
    "                pass\n",
    "            #makes sure the bottom right spot is empty\n",
    "            elif item == dim - 1 and thing == dim - 1:\n",
    "                pass\n",
    "            #change the cells based off of the value of p and our random number\n",
    "            else:\n",
    "                x = random.random()\n",
    "                #if our random number is less than p, then the cell will not be filled\n",
    "                if p < x:\n",
    "                    a[item][thing] = 0\n",
    "                #if our random number is greater than p, then the cell will  be filled\n",
    "                else:\n",
    "                    a[item][thing] = 1\n",
    "    return a\n",
    "\n",
    "\n",
    "'''\n",
    "update the state of the maze after moving to the next tile\n",
    "\n",
    "            **inputs**\n",
    "\n",
    "-maze = the maze to be updated\n",
    "-i = which row to update\n",
    "-j = which column to update\n",
    "'''\n",
    "\n",
    "def update(maze, i, j):\n",
    "    #shades the tile grey to distinguish between open and occupied\n",
    "    maze[i][j] = 0.5\n",
    "    \n",
    "    \n",
    "    \n",
    "def Euclidean(maze, i, j):\n",
    "    distance = np.sqrt(pow(len(maze)-1 - i, 2) + pow(len(maze[0])-1 - j, 2))\n",
    "    return distance\n",
    "\n",
    "\n",
    "\n",
    "def Manhattan(maze, i, j):\n",
    "    distance = abs(len(maze)-1 - i) + abs(len(maze[0])-1 - j)\n",
    "    return distance\n"
   ]
  },
  {
   "cell_type": "code",
   "execution_count": null,
   "metadata": {},
   "outputs": [],
   "source": []
  },
  {
   "cell_type": "code",
   "execution_count": 679,
   "metadata": {},
   "outputs": [],
   "source": [
    "#BFS Search Algorithm\n",
    "\n",
    "def BFS(maze):\n",
    "    #initialize the solved state of the maze to be false and our pointers to be at the beginning\n",
    "    #i controls row and j controls column\n",
    "    maze_final = np.copy(maze)\n",
    "    solved = False\n",
    "    i, j = 0, 0\n",
    "    prev = {}\n",
    "    \n",
    "    #initialize the fringe and store the starting point of the maze\n",
    "    fringe = queue.Queue()\n",
    "    fringe.put([i, j])\n",
    "    \n",
    "    #plot the initial maze\n",
    "    plt.imshow(maze, cmap=plt.cm.binary)\n",
    "    plt.pause(0.05)\n",
    "    \n",
    "    #runs until we reach the end\n",
    "    while solved == False:\n",
    "        '''\n",
    "        #*****this is just for debugging*****\n",
    "        \n",
    "        #print out the length of the current fringe\n",
    "        print(queue.Queue.qsize(fringe))\n",
    "            \n",
    "        #looks at the queue\n",
    "        for q_item in fringe.queue:\n",
    "            print(q_item)\n",
    "        '''\n",
    "        \n",
    "        #Is the maze unsolvable?\n",
    "        if queue.Queue.qsize(fringe) == 0:\n",
    "            #update the state of the maze, display the end result, and break the loop\n",
    "            update(maze, i , j)\n",
    "            plt.imshow(maze, cmap=plt.cm.binary)\n",
    "            plt.pause(0.05)\n",
    "            print(\"UNSOLVABLE\")\n",
    "            break\n",
    "            \n",
    "        #gets the current node and update i and j\n",
    "        current = fringe.get()\n",
    "        i, j = current[0], current[1]\n",
    "        \n",
    "        #check if we have reached a solution, display the end result, and break the loop\n",
    "        if i + 1 == len(maze) and j + 1 == len(maze[i]):\n",
    "            update(maze, i , j)\n",
    "            plt.imshow(maze, cmap=plt.cm.binary)\n",
    "            plt.pause(0.05)\n",
    "            print(\"SOLVED\")\n",
    "            \n",
    "            update(maze_final, i, j)\n",
    "            plt.imshow(maze, cmap=plt.cm.binary)\n",
    "            plt.pause(0.05)\n",
    "            \n",
    "            while i != 0 or j!= 0:\n",
    "                x = prev[i,j]\n",
    "                i, j = x[0], x[1]\n",
    "                update(maze_final, i, j)\n",
    "                plt.imshow(maze_final, cmap=plt.cm.binary)\n",
    "                plt.pause(0.05)\n",
    "            \n",
    "            update(maze_final, 0, 0)\n",
    "            plt.imshow(maze_final, cmap=plt.cm.binary)\n",
    "            plt.pause(0.05)\n",
    "            \n",
    "            break\n",
    "        \n",
    "        #check down position\n",
    "        \n",
    "        #are we outside?\n",
    "        if i + 1 >= len(maze):\n",
    "            pass\n",
    "        else:\n",
    "            #is the next position occupied or previously visited?\n",
    "            if maze[i + 1][j] == 1 or maze[i + 1][j] == 0.5:\n",
    "                pass\n",
    "            else:\n",
    "                #add to fringe if valid and is not already in fringe\n",
    "                if [i + 1, j] in fringe.queue:\n",
    "                    pass\n",
    "                else:\n",
    "                    prev[(i + 1, j)] = (i, j)\n",
    "                    fringe.put([i + 1, j])\n",
    "\n",
    "        #check right position\n",
    "        \n",
    "        #are we outside?\n",
    "        if j + 1 >= len(maze[i]):\n",
    "            pass\n",
    "        else:\n",
    "            #is the next position occupied or previously visited?\n",
    "            if maze[i][j + 1] == 1 or maze[i][j + 1] == 0.5:\n",
    "                pass\n",
    "            else:\n",
    "                #add to fringe if valid and is not already in fringe\n",
    "                if [i, j + 1] in fringe.queue:\n",
    "                    pass\n",
    "                else:\n",
    "                    prev[(i, j + 1)] = (i, j)\n",
    "                    fringe.put([i, j + 1])\n",
    "        \n",
    "        #check up solution\n",
    "        \n",
    "        #are we outside?\n",
    "        if i - 1 < 0:\n",
    "            pass\n",
    "        else:\n",
    "            #is the next position occupied or previously visited?\n",
    "            if maze[i - 1][j] == 1 or maze[i - 1][j] == 0.5:\n",
    "                pass\n",
    "            else:\n",
    "                #add to fringe if valid and is not already in fringe\n",
    "                if [i - 1, j] in fringe.queue:\n",
    "                    pass\n",
    "                else:\n",
    "                    prev[(i - 1, j)] = (i, j)\n",
    "                    fringe.put([i - 1, j])\n",
    "        \n",
    "        #check left solution\n",
    "        \n",
    "        #are we outside?\n",
    "        if j - 1 < 0:\n",
    "            pass\n",
    "        else:\n",
    "            #is the next position occupied or previously visited?\n",
    "            if maze[i][j - 1] == 1 or maze[i][j - 1] == 0.5:\n",
    "                pass\n",
    "            else:\n",
    "                #add to fringe if valid and is not already in fringe\n",
    "                if [i, j - 1] in fringe.queue:\n",
    "                    pass\n",
    "                else:\n",
    "                    prev[(i, j - 1)] = (i, j)\n",
    "                    fringe.put([i, j - 1])\n",
    "        \n",
    "        \n",
    "        #after done checking, update the maze and start over\n",
    "        update(maze, i, j)\n",
    "    \n",
    "        plt.imshow(maze, cmap=plt.cm.binary)\n",
    "        plt.pause(0.05)\n",
    "        \n",
    "    plt.show()"
   ]
  },
  {
   "cell_type": "code",
   "execution_count": 721,
   "metadata": {
    "scrolled": false
   },
   "outputs": [],
   "source": [
    "#test the algorithm\n",
    "#BFS(grid(5,0.2))"
   ]
  },
  {
   "cell_type": "code",
   "execution_count": 732,
   "metadata": {},
   "outputs": [],
   "source": [
    "#DFS Search Algorithm\n",
    "\n",
    "def DFS(maze):\n",
    "    #initialize the solved state of the maze to be false and our pointers to be at the beginning\n",
    "    #i controls row and j controls column\n",
    "    maze_final = np.copy(maze)\n",
    "    solved = False\n",
    "    i, j = 0, 0\n",
    "    prev = {}\n",
    "    \n",
    "    #initialize the fringe and store the starting point of the maze\n",
    "    fringe = []\n",
    "    fringe.append([i, j])\n",
    "    \n",
    "    #runs until we reach the end\n",
    "    while solved == False:\n",
    "        '''\n",
    "        #*****this is just for debugging*****\n",
    "        \n",
    "        #print out the length of the current fringe\n",
    "        print(queue.Queue.qsize(fringe))\n",
    "            \n",
    "        #looks at the queue\n",
    "        for q_item in fringe.queue:\n",
    "            print(q_item)\n",
    "        '''\n",
    "        \n",
    "        #Is the maze unsolvable?\n",
    "        if len(fringe) == 0:\n",
    "            #update the state of the maze, display the end result, and break the loop\n",
    "            update(maze, i , j)\n",
    "            plt.imshow(maze, cmap=plt.cm.binary)\n",
    "            plt.show()\n",
    "            print(\"UNSOLVABLE\")\n",
    "            break\n",
    "            \n",
    "        #gets the current node and update i and j\n",
    "        current = fringe.pop()\n",
    "        i, j = current[0], current[1]\n",
    "        \n",
    "        #check if we have reached a solution, display the end result, and break the loop\n",
    "        if i + 1 == len(maze) and j + 1 == len(maze[i]):\n",
    "            update(maze, i , j)\n",
    "            plt.imshow(maze, cmap=plt.cm.binary)\n",
    "            plt.pause(0.05)\n",
    "            print(\"SOLVED\")\n",
    "            \n",
    "            update(maze_final, i, j)\n",
    "            plt.imshow(maze, cmap=plt.cm.binary)\n",
    "            plt.pause(0.05)\n",
    "            \n",
    "            while i != 0 or j!= 0:\n",
    "                x = prev[i,j]\n",
    "                i, j = x[0], x[1]\n",
    "                update(maze_final, i, j)\n",
    "                plt.imshow(maze_final, cmap=plt.cm.binary)\n",
    "                plt.pause(0.05)\n",
    "            \n",
    "            update(maze_final, 0, 0)\n",
    "            plt.imshow(maze_final, cmap=plt.cm.binary)\n",
    "            plt.pause(0.05)\n",
    "            \n",
    "            break\n",
    "            \n",
    "        #check left solution\n",
    "        \n",
    "        #are we outside?\n",
    "        if j - 1 < 0:\n",
    "            pass\n",
    "        else:\n",
    "            #is the next position occupied or previously visited?\n",
    "            if maze[i][j - 1] == 1 or maze[i][j - 1] == 0.5:\n",
    "                pass\n",
    "            else:\n",
    "                #add to fringe if valid and is not already in fringe\n",
    "                if [i, j - 1] in fringe:\n",
    "                    pass\n",
    "                else:\n",
    "                    prev[(i, j - 1)] = (i, j)\n",
    "                    fringe.append([i, j - 1])\n",
    "                    \n",
    "        #check up solution\n",
    "        \n",
    "        #are we outside?\n",
    "        if i - 1 < 0:\n",
    "            pass\n",
    "        else:\n",
    "            #is the next position occupied or previously visited?\n",
    "            if maze[i - 1][j] == 1 or maze[i - 1][j] == 0.5:\n",
    "                pass\n",
    "            else:\n",
    "                #add to fringe if valid and is not already in fringe\n",
    "                if [i - 1, j] in fringe:\n",
    "                    pass\n",
    "                else:\n",
    "                    prev[(i - 1, j)] = (i, j)\n",
    "                    fringe.append([i - 1, j])\n",
    "                    \n",
    "        #check right position\n",
    "        \n",
    "        #are we outside?\n",
    "        if j + 1 >= len(maze[i]):\n",
    "            pass\n",
    "        else:\n",
    "            #is the next position occupied or previously visited?\n",
    "            if maze[i][j + 1] == 1 or maze[i][j + 1] == 0.5:\n",
    "                pass\n",
    "            else:\n",
    "                #add to fringe if valid and is not already in fringe\n",
    "                if [i, j + 1] in fringe:\n",
    "                    pass\n",
    "                else:\n",
    "                    prev[(i, j + 1)] = (i, j)\n",
    "                    fringe.append([i, j + 1])\n",
    "        \n",
    "        #check down position\n",
    "        \n",
    "        #are we outside?\n",
    "        if i + 1 >= len(maze):\n",
    "            pass\n",
    "        else:\n",
    "            #is the next position occupied or previously visited?\n",
    "            if maze[i + 1][j] == 1 or maze[i + 1][j] == 0.5:\n",
    "                pass\n",
    "            else:\n",
    "                #add to fringe if valid and is not already in fringe\n",
    "                if [i + 1, j] in fringe:\n",
    "                    pass\n",
    "                else:\n",
    "                    prev[(i + 1, j)] = (i, j)\n",
    "                    fringe.append([i + 1, j])        \n",
    "        \n",
    "        \n",
    "        \n",
    "        #after done checking, update the maze and start over\n",
    "        update(maze, i, j)\n",
    "        \n",
    "        plt.imshow(maze, cmap=plt.cm.binary)\n",
    "        plt.pause(0.05)\n",
    "\n",
    "    plt.show()"
   ]
  },
  {
   "cell_type": "code",
   "execution_count": 762,
   "metadata": {},
   "outputs": [
    {
     "data": {
      "image/png": "[encoded data removed]",
      "text/plain": [
       "<Figure size 432x288 with 1 Axes>"
      ]
     },
     "metadata": {
      "needs_background": "light"
     },
     "output_type": "display_data"
    },
    {
     "data": {
      "image/png": "[encoded data removed]",
      "text/plain": [
       "<Figure size 432x288 with 1 Axes>"
      ]
     },
     "metadata": {
      "needs_background": "light"
     },
     "output_type": "display_data"
    },
    {
     "data": {
      "image/png": "[encoded data removed]",
      "text/plain": [
       "<Figure size 432x288 with 1 Axes>"
      ]
     },
     "metadata": {
      "needs_background": "light"
     },
     "output_type": "display_data"
    },
    {
     "data": {
      "image/png": "[encoded data removed]",
      "text/plain": [
       "<Figure size 432x288 with 1 Axes>"
      ]
     },
     "metadata": {
      "needs_background": "light"
     },
     "output_type": "display_data"
    },
    {
     "data": {
      "image/png": "[encoded data removed]",
      "text/plain": [
       "<Figure size 432x288 with 1 Axes>"
      ]
     },
     "metadata": {
      "needs_background": "light"
     },
     "output_type": "display_data"
    },
    {
     "data": {
      "image/png": "[encoded data removed]",
      "text/plain": [
       "<Figure size 432x288 with 1 Axes>"
      ]
     },
     "metadata": {
      "needs_background": "light"
     },
     "output_type": "display_data"
    },
    {
     "data": {
      "image/png": "[encoded data removed]",
      "text/plain": [
       "<Figure size 432x288 with 1 Axes>"
      ]
     },
     "metadata": {
      "needs_background": "light"
     },
     "output_type": "display_data"
    },
    {
     "data": {
      "image/png": "[encoded data removed]",
      "text/plain": [
       "<Figure size 432x288 with 1 Axes>"
      ]
     },
     "metadata": {
      "needs_background": "light"
     },
     "output_type": "display_data"
    },
    {
     "data": {
      "image/png": "[encoded data removed]",
      "text/plain": [
       "<Figure size 432x288 with 1 Axes>"
      ]
     },
     "metadata": {
      "needs_background": "light"
     },
     "output_type": "display_data"
    },
    {
     "name": "stdout",
     "output_type": "stream",
     "text": [
      "SOLVED\n"
     ]
    },
    {
     "data": {
      "image/png": "[encoded data removed]",
      "text/plain": [
       "<Figure size 432x288 with 1 Axes>"
      ]
     },
     "metadata": {
      "needs_background": "light"
     },
     "output_type": "display_data"
    },
    {
     "data": {
      "image/png": "[encoded data removed]",
      "text/plain": [
       "<Figure size 432x288 with 1 Axes>"
      ]
     },
     "metadata": {
      "needs_background": "light"
     },
     "output_type": "display_data"
    },
    {
     "data": {
      "image/png": "[encoded data removed]",
      "text/plain": [
       "<Figure size 432x288 with 1 Axes>"
      ]
     },
     "metadata": {
      "needs_background": "light"
     },
     "output_type": "display_data"
    },
    {
     "data": {
      "image/png": "[encoded data removed]",
      "text/plain": [
       "<Figure size 432x288 with 1 Axes>"
      ]
     },
     "metadata": {
      "needs_background": "light"
     },
     "output_type": "display_data"
    },
    {
     "data": {
      "image/png": "[encoded data removed]",
      "text/plain": [
       "<Figure size 432x288 with 1 Axes>"
      ]
     },
     "metadata": {
      "needs_background": "light"
     },
     "output_type": "display_data"
    },
    {
     "data": {
      "image/png": "[encoded data removed]",
      "text/plain": [
       "<Figure size 432x288 with 1 Axes>"
      ]
     },
     "metadata": {
      "needs_background": "light"
     },
     "output_type": "display_data"
    },
    {
     "data": {
      "image/png": "[encoded data removed]",
      "text/plain": [
       "<Figure size 432x288 with 1 Axes>"
      ]
     },
     "metadata": {
      "needs_background": "light"
     },
     "output_type": "display_data"
    },
    {
     "data": {
      "image/png": "[encoded data removed]",
      "text/plain": [
       "<Figure size 432x288 with 1 Axes>"
      ]
     },
     "metadata": {
      "needs_background": "light"
     },
     "output_type": "display_data"
    },
    {
     "data": {
      "image/png": "[encoded data removed]",
      "text/plain": [
       "<Figure size 432x288 with 1 Axes>"
      ]
     },
     "metadata": {
      "needs_background": "light"
     },
     "output_type": "display_data"
    },
    {
     "data": {
      "image/png": "[encoded data removed]",
      "text/plain": [
       "<Figure size 432x288 with 1 Axes>"
      ]
     },
     "metadata": {
      "needs_background": "light"
     },
     "output_type": "display_data"
    }
   ],
   "source": [
    "DFS(grid(5,0.3))"
   ]
  },
  {
   "cell_type": "code",
   "execution_count": null,
   "metadata": {},
   "outputs": [],
   "source": []
  },
  {
   "cell_type": "code",
   "execution_count": 848,
   "metadata": {},
   "outputs": [],
   "source": [
    "#A* Euclidean Distance\n",
    "\n",
    "def AstarE(maze):\n",
    "    #initialize the solved state of the maze to be false and our pointers to be at the beginning\n",
    "    #i controls row and j controls column\n",
    "    maze_final = np.copy(maze)\n",
    "    solved = False\n",
    "    i, j = 0, 0\n",
    "    prev = {}\n",
    "    counter = 0\n",
    "    \n",
    "    #initialize the fringe and store the starting point of the maze\n",
    "    fringe = []\n",
    "    fringe.append([i, j, counter + Euclidean(maze, i, j)])\n",
    "    \n",
    "    #runs until we reach the end\n",
    "    while solved == False:\n",
    "        '''\n",
    "        #*****this is just for debugging*****\n",
    "        \n",
    "        #print out the length of the current fringe\n",
    "        print(queue.Queue.qsize(fringe))\n",
    "            \n",
    "        #looks at the queue\n",
    "        for q_item in fringe.queue:\n",
    "            print(q_item)\n",
    "        '''\n",
    "        \n",
    "        #Is the maze unsolvable?\n",
    "        if len(fringe) == 0:\n",
    "            #update the state of the maze, display the end result, and break the loop\n",
    "            update(maze, i , j)\n",
    "            plt.imshow(maze, cmap=plt.cm.binary)\n",
    "            plt.show()\n",
    "            print(\"UNSOLVABLE\")\n",
    "            break\n",
    "            \n",
    "        #gets the current node and update i and j\n",
    "        current = fringe.pop()\n",
    "        i, j = current[0], current[1]\n",
    "        \n",
    "        #check if we have reached a solution, display the end result, and break the loop\n",
    "        if i + 1 == len(maze) and j + 1 == len(maze[i]):\n",
    "            update(maze, i , j)\n",
    "            plt.imshow(maze, cmap=plt.cm.binary)\n",
    "            plt.pause(0.05)\n",
    "            print(\"SOLVED\")\n",
    "            \n",
    "            update(maze_final, i, j)\n",
    "            plt.imshow(maze, cmap=plt.cm.binary)\n",
    "            plt.pause(0.05)\n",
    "            \n",
    "            while i != 0 or j!= 0:\n",
    "                x = prev[i,j]\n",
    "                i, j = x[0], x[1]\n",
    "                update(maze_final, i, j)\n",
    "                plt.imshow(maze_final, cmap=plt.cm.binary)\n",
    "                plt.pause(0.05)\n",
    "            \n",
    "            update(maze_final, 0, 0)\n",
    "            plt.imshow(maze_final, cmap=plt.cm.binary)\n",
    "            plt.pause(0.05)\n",
    "            \n",
    "            break\n",
    "       \n",
    "    \n",
    "    \n",
    "    \n",
    "    \n",
    "    \n",
    "    \n",
    "        #check left solution\n",
    "        \n",
    "        #are we outside?\n",
    "        if j - 1 < 0:\n",
    "            pass\n",
    "        else:\n",
    "            #is the next position occupied or previously visited?\n",
    "            if maze[i][j - 1] == 1 or maze[i][j - 1] == 0.5:\n",
    "                #If so, move on\n",
    "                pass\n",
    "            else:\n",
    "                #check if already in fringe\n",
    "                if [i, j - 1, counter + Euclidean(maze, i, j - 1)] in fringe:\n",
    "                    pass\n",
    "                else:\n",
    "                    #if the fringe was empty (i.e. the first move), just add the first child to fringe\n",
    "                    if len(fringe) == 0: \n",
    "                        prev[(i, j - 1)] = (i, j)\n",
    "                        fringe.append((i, j - 1, counter + Euclidean(maze, i, j - 1)))\n",
    "                    #if the fringe is not empty, check the f(n) value and compare with items in fringe\n",
    "                    else:\n",
    "                        for x in range(len(fringe)-1,-1,-1): \n",
    "                            if counter + Euclidean(maze, i, j - 1) > fringe[x][2]:\n",
    "                                if x == 0:\n",
    "                                    fringe.insert(x, (i, j - 1, counter + Euclidean(maze, i, j - 1)))\n",
    "                                    prev[(i, j - 1)] = (i, j)\n",
    "                                else: \n",
    "                                    pass\n",
    "                            else: \n",
    "                                fringe.insert(x + 1, (i, j - 1, counter + Euclidean(maze, i, j - 1)))\n",
    "                                prev[(i, j - 1)] = (i, j)\n",
    "                                break\n",
    "                                \n",
    "                                \n",
    "        #check up solution\n",
    "        \n",
    "        #are we outside?\n",
    "        if i - 1 < 0:\n",
    "            pass\n",
    "        else:\n",
    "            #is the next position occupied or previously visited?\n",
    "            if maze[i - 1][j] == 1 or maze[i - 1][j] == 0.5:\n",
    "                pass\n",
    "            else:\n",
    "                #check if already in fringe\n",
    "                if [i - 1, j, counter + Euclidean(maze, i - 1, j)] in fringe:\n",
    "                    pass\n",
    "                else:\n",
    "                    #if the fringe was empty (i.e. the first move), just add the first child to fringe\n",
    "                    if len(fringe) == 0: \n",
    "                        prev[(i - 1, j)] = (i, j)\n",
    "                        fringe.append((i - 1, j, counter + Euclidean(maze, i - 1, j)))\n",
    "                    #if the fringe is not empty, check the f(n) value and compare with items in fringe\n",
    "                    else:\n",
    "                        for x in range(len(fringe)-1,-1,-1): \n",
    "                            if counter + Euclidean(maze, i - 1, j) > fringe[x][2]:\n",
    "                                if x == 0:\n",
    "                                    fringe.insert(x, (i - 1, j, counter + Euclidean(maze, i - 1, j)))\n",
    "                                    prev[(i - 1, j)] = (i, j)\n",
    "                                else: \n",
    "                                    pass\n",
    "                            else: \n",
    "                                fringe.insert(x + 1, (i - 1, j, counter + Euclidean(maze, i - 1, j)))\n",
    "                                prev[(i - 1, j)] = (i, j)\n",
    "                                break\n",
    "        #check right position\n",
    "        \n",
    "        #are we outside?\n",
    "        if j + 1 >= len(maze[i]):\n",
    "            pass\n",
    "        else:\n",
    "            #is the next position occupied or previously visited?\n",
    "            if maze[i][j + 1] == 1 or maze[i][j + 1] == 0.5:\n",
    "                pass\n",
    "            else:\n",
    "                #check if already in fringe\n",
    "                if [i, j + 1, counter + Euclidean(maze, i, j + 1)] in fringe:\n",
    "                    pass\n",
    "                else:\n",
    "                    #if the fringe was empty (i.e. the first move), just add the first child to fringe\n",
    "                    if len(fringe) == 0: \n",
    "                        prev[(i, j + 1)] = (i, j)\n",
    "                        fringe.append((i, j + 1, counter + Euclidean(maze, i, j + 1)))\n",
    "                    #if the fringe is not empty, check the f(n) value and compare with items in fringe\n",
    "                    else:\n",
    "                        for x in range(len(fringe)-1,-1,-1): \n",
    "                            if counter + Euclidean(maze, i, j + 1) > fringe[x][2]:\n",
    "                                if x == 0:\n",
    "                                    fringe.insert(x, (i, j + 1, counter + Euclidean(maze, i, j + 1)))\n",
    "                                    prev[(i, j + 1)] = (i, j)\n",
    "                                else: \n",
    "                                    pass\n",
    "                            else: \n",
    "                                fringe.insert(x + 1, (i, j + 1, counter + Euclidean(maze, i, j + 1)))\n",
    "                                prev[(i, j + 1)] = (i, j)\n",
    "                                break\n",
    "        \n",
    "        #check down position\n",
    "        \n",
    "        #are we outside?\n",
    "        if i + 1 >= len(maze):\n",
    "            pass\n",
    "        else:\n",
    "            #is the next position occupied or previously visited?\n",
    "            if maze[i + 1][j] == 1 or maze[i + 1][j] == 0.5:\n",
    "                pass\n",
    "            else:\n",
    "                #check if already in fringe\n",
    "                if [i + 1, j, counter + Euclidean(maze, i + 1, j)] in fringe:\n",
    "                    pass\n",
    "                else:\n",
    "                    #if the fringe was empty (i.e. the first move), just add the first child to fringe\n",
    "                    if len(fringe) == 0: \n",
    "                        prev[(i + 1, j)] = (i, j)\n",
    "                        fringe.append((i + 1, j, counter + Euclidean(maze, i + 1, j)))\n",
    "                    #if the fringe is not empty, check the f(n) value and compare with items in fringe\n",
    "                    else:\n",
    "                        for x in range(len(fringe)-1,-1,-1): \n",
    "                            if counter + Euclidean(maze, i + 1, j) > fringe[x][2]:\n",
    "                                if x == 0:\n",
    "                                    fringe.insert(x, (i + 1, j, counter + Euclidean(maze, i + 1, j)))\n",
    "                                    prev[(i + 1, j)] = (i, j)\n",
    "                                else: \n",
    "                                    pass\n",
    "                            else: \n",
    "                                fringe.insert(x + 1, (i + 1, j, counter + Euclidean(maze, i + 1, j)))\n",
    "                                prev[(i + 1, j)] = (i, j)\n",
    "                                break        \n",
    "        \n",
    "        \n",
    "        \n",
    "        #after done checking, update the maze and start over\n",
    "        update(maze, i, j)\n",
    "        \n",
    "        plt.imshow(maze, cmap=plt.cm.binary)\n",
    "        plt.pause(0.05)\n",
    "\n",
    "    plt.show()"
   ]
  },
  {
   "cell_type": "code",
   "execution_count": 849,
   "metadata": {},
   "outputs": [
    {
     "data": {
      "image/png": "[encoded data removed]",
      "text/plain": [
       "<Figure size 432x288 with 1 Axes>"
      ]
     },
     "metadata": {
      "needs_background": "light"
     },
     "output_type": "display_data"
    },
    {
     "data": {
      "image/png": "[encoded data removed]",
      "text/plain": [
       "<Figure size 432x288 with 1 Axes>"
      ]
     },
     "metadata": {
      "needs_background": "light"
     },
     "output_type": "display_data"
    },
    {
     "data": {
      "image/png": "[encoded data removed]",
      "text/plain": [
       "<Figure size 432x288 with 1 Axes>"
      ]
     },
     "metadata": {
      "needs_background": "light"
     },
     "output_type": "display_data"
    },
    {
     "data": {
      "image/png": "[encoded data removed]",
      "text/plain": [
       "<Figure size 432x288 with 1 Axes>"
      ]
     },
     "metadata": {
      "needs_background": "light"
     },
     "output_type": "display_data"
    },
    {
     "data": {
      "image/png": "[encoded data removed]",
      "text/plain": [
       "<Figure size 432x288 with 1 Axes>"
      ]
     },
     "metadata": {
      "needs_background": "light"
     },
     "output_type": "display_data"
    },
    {
     "data": {
      "image/png": "[encoded data removed]",
      "text/plain": [
       "<Figure size 432x288 with 1 Axes>"
      ]
     },
     "metadata": {
      "needs_background": "light"
     },
     "output_type": "display_data"
    },
    {
     "data": {
      "image/png": "[encoded data removed]",
      "text/plain": [
       "<Figure size 432x288 with 1 Axes>"
      ]
     },
     "metadata": {
      "needs_background": "light"
     },
     "output_type": "display_data"
    },
    {
     "data": {
      "image/png": "[encoded data removed]",
      "text/plain": [
       "<Figure size 432x288 with 1 Axes>"
      ]
     },
     "metadata": {
      "needs_background": "light"
     },
     "output_type": "display_data"
    },
    {
     "data": {
      "image/png": "[encoded data removed]",
      "text/plain": [
       "<Figure size 432x288 with 1 Axes>"
      ]
     },
     "metadata": {
      "needs_background": "light"
     },
     "output_type": "display_data"
    },
    {
     "data": {
      "image/png": "[encoded data removed]",
      "text/plain": [
       "<Figure size 432x288 with 1 Axes>"
      ]
     },
     "metadata": {
      "needs_background": "light"
     },
     "output_type": "display_data"
    },
    {
     "data": {
      "image/png": "[encoded data removed]",
      "text/plain": [
       "<Figure size 432x288 with 1 Axes>"
      ]
     },
     "metadata": {
      "needs_background": "light"
     },
     "output_type": "display_data"
    },
    {
     "data": {
      "image/png": "[encoded data removed]",
      "text/plain": [
       "<Figure size 432x288 with 1 Axes>"
      ]
     },
     "metadata": {
      "needs_background": "light"
     },
     "output_type": "display_data"
    },
    {
     "data": {
      "image/png": "[encoded data removed]",
      "text/plain": [
       "<Figure size 432x288 with 1 Axes>"
      ]
     },
     "metadata": {
      "needs_background": "light"
     },
     "output_type": "display_data"
    },
    {
     "data": {
      "image/png": "[encoded data removed]",
      "text/plain": [
       "<Figure size 432x288 with 1 Axes>"
      ]
     },
     "metadata": {
      "needs_background": "light"
     },
     "output_type": "display_data"
    },
    {
     "data": {
      "image/png": "[encoded data removed]",
      "text/plain": [
       "<Figure size 432x288 with 1 Axes>"
      ]
     },
     "metadata": {
      "needs_background": "light"
     },
     "output_type": "display_data"
    },
    {
     "data": {
      "image/png": "[encoded data removed]",
      "text/plain": [
       "<Figure size 432x288 with 1 Axes>"
      ]
     },
     "metadata": {
      "needs_background": "light"
     },
     "output_type": "display_data"
    },
    {
     "data": {
      "image/png": "[encoded data removed]",
      "text/plain": [
       "<Figure size 432x288 with 1 Axes>"
      ]
     },
     "metadata": {
      "needs_background": "light"
     },
     "output_type": "display_data"
    },
    {
     "data": {
      "image/png": "[encoded data removed]",
      "text/plain": [
       "<Figure size 432x288 with 1 Axes>"
      ]
     },
     "metadata": {
      "needs_background": "light"
     },
     "output_type": "display_data"
    },
    {
     "data": {
      "image/png": "[encoded data removed]",
      "text/plain": [
       "<Figure size 432x288 with 1 Axes>"
      ]
     },
     "metadata": {
      "needs_background": "light"
     },
     "output_type": "display_data"
    },
    {
     "name": "stdout",
     "output_type": "stream",
     "text": [
      "SOLVED\n"
     ]
    },
    {
     "data": {
      "image/png": "[encoded data removed]",
      "text/plain": [
       "<Figure size 432x288 with 1 Axes>"
      ]
     },
     "metadata": {
      "needs_background": "light"
     },
     "output_type": "display_data"
    },
    {
     "data": {
      "image/png": "[encoded data removed]",
      "text/plain": [
       "<Figure size 432x288 with 1 Axes>"
      ]
     },
     "metadata": {
      "needs_background": "light"
     },
     "output_type": "display_data"
    },
    {
     "data": {
      "image/png": "[encoded data removed]",
      "text/plain": [
       "<Figure size 432x288 with 1 Axes>"
      ]
     },
     "metadata": {
      "needs_background": "light"
     },
     "output_type": "display_data"
    },
    {
     "data": {
      "image/png": "[encoded data removed]",
      "text/plain": [
       "<Figure size 432x288 with 1 Axes>"
      ]
     },
     "metadata": {
      "needs_background": "light"
     },
     "output_type": "display_data"
    },
    {
     "data": {
      "image/png": "[encoded data removed]",
      "text/plain": [
       "<Figure size 432x288 with 1 Axes>"
      ]
     },
     "metadata": {
      "needs_background": "light"
     },
     "output_type": "display_data"
    },
    {
     "data": {
      "image/png": "[encoded data removed]",
      "text/plain": [
       "<Figure size 432x288 with 1 Axes>"
      ]
     },
     "metadata": {
      "needs_background": "light"
     },
     "output_type": "display_data"
    },
    {
     "data": {
      "image/png": "[encoded data removed]",
      "text/plain": [
       "<Figure size 432x288 with 1 Axes>"
      ]
     },
     "metadata": {
      "needs_background": "light"
     },
     "output_type": "display_data"
    },
    {
     "data": {
      "image/png": "[encoded data removed]",
      "text/plain": [
       "<Figure size 432x288 with 1 Axes>"
      ]
     },
     "metadata": {
      "needs_background": "light"
     },
     "output_type": "display_data"
    },
    {
     "data": {
      "image/png": "[encoded data removed]",
      "text/plain": [
       "<Figure size 432x288 with 1 Axes>"
      ]
     },
     "metadata": {
      "needs_background": "light"
     },
     "output_type": "display_data"
    },
    {
     "data": {
      "image/png": "[encoded data removed]",
      "text/plain": [
       "<Figure size 432x288 with 1 Axes>"
      ]
     },
     "metadata": {
      "needs_background": "light"
     },
     "output_type": "display_data"
    },
    {
     "data": {
      "image/png": "[encoded data removed]",
      "text/plain": [
       "<Figure size 432x288 with 1 Axes>"
      ]
     },
     "metadata": {
      "needs_background": "light"
     },
     "output_type": "display_data"
    },
    {
     "data": {
      "image/png": "[encoded data removed]",
      "text/plain": [
       "<Figure size 432x288 with 1 Axes>"
      ]
     },
     "metadata": {
      "needs_background": "light"
     },
     "output_type": "display_data"
    },
    {
     "data": {
      "image/png": "[encoded data removed]",
      "text/plain": [
       "<Figure size 432x288 with 1 Axes>"
      ]
     },
     "metadata": {
      "needs_background": "light"
     },
     "output_type": "display_data"
    },
    {
     "data": {
      "image/png": "[encoded data removed]",
      "text/plain": [
       "<Figure size 432x288 with 1 Axes>"
      ]
     },
     "metadata": {
      "needs_background": "light"
     },
     "output_type": "display_data"
    },
    {
     "data": {
      "image/png": "[encoded data removed]",
      "text/plain": [
       "<Figure size 432x288 with 1 Axes>"
      ]
     },
     "metadata": {
      "needs_background": "light"
     },
     "output_type": "display_data"
    },
    {
     "data": {
      "image/png": "[encoded data removed]",
      "text/plain": [
       "<Figure size 432x288 with 1 Axes>"
      ]
     },
     "metadata": {
      "needs_background": "light"
     },
     "output_type": "display_data"
    },
    {
     "data": {
      "image/png": "[encoded data removed]",
      "text/plain": [
       "<Figure size 432x288 with 1 Axes>"
      ]
     },
     "metadata": {
      "needs_background": "light"
     },
     "output_type": "display_data"
    },
    {
     "data": {
      "image/png": "[encoded data removed]",
      "text/plain": [
       "<Figure size 432x288 with 1 Axes>"
      ]
     },
     "metadata": {
      "needs_background": "light"
     },
     "output_type": "display_data"
    },
    {
     "data": {
      "image/png": "[encoded data removed]",
      "text/plain": [
       "<Figure size 432x288 with 1 Axes>"
      ]
     },
     "metadata": {
      "needs_background": "light"
     },
     "output_type": "display_data"
    },
    {
     "data": {
      "image/png": "[encoded data removed]",
      "text/plain": [
       "<Figure size 432x288 with 1 Axes>"
      ]
     },
     "metadata": {
      "needs_background": "light"
     },
     "output_type": "display_data"
    }
   ],
   "source": [
    "AstarE(grid(10,0.3))"
   ]
  },
  {
   "cell_type": "code",
   "execution_count": 840,
   "metadata": {},
   "outputs": [],
   "source": [
    "#A* Manhattan Distance\n",
    "\n",
    "def AstarM(maze):\n",
    "    #initialize the solved state of the maze to be false and our pointers to be at the beginning\n",
    "    #i controls row and j controls column\n",
    "    maze_final = np.copy(maze)\n",
    "    solved = False\n",
    "    i, j = 0, 0\n",
    "    prev = {}\n",
    "    counter = 0\n",
    "    \n",
    "    #initialize the fringe and store the starting point of the maze\n",
    "    fringe = []\n",
    "    fringe.append([i, j, counter + Manhattan(maze, i, j)])\n",
    "    \n",
    "    \n",
    "    #runs until we reach the end\n",
    "    while solved == False:\n",
    "        '''\n",
    "        #*****this is just for debugging*****\n",
    "        \n",
    "        #print out the length of the current fringe\n",
    "        print(queue.Queue.qsize(fringe))\n",
    "            \n",
    "        #looks at the queue\n",
    "        for q_item in fringe.queue:\n",
    "            print(q_item)\n",
    "        '''\n",
    "        \n",
    "        #Is the maze unsolvable?\n",
    "        if len(fringe) == 0:\n",
    "            #update the state of the maze, display the end result, and break the loop\n",
    "            update(maze, i , j)\n",
    "            plt.imshow(maze, cmap=plt.cm.binary)\n",
    "            plt.show()\n",
    "            print(\"UNSOLVABLE\")\n",
    "            break\n",
    "            \n",
    "        #gets the current node and update i and j\n",
    "        current = fringe.pop()\n",
    "        i, j = current[0], current[1]\n",
    "        \n",
    "        #check if we have reached a solution, display the end result, and break the loop\n",
    "        if i + 1 == len(maze) and j + 1 == len(maze[i]):\n",
    "            update(maze, i , j)\n",
    "            plt.imshow(maze, cmap=plt.cm.binary)\n",
    "            plt.pause(0.05)\n",
    "            print(\"SOLVED\")\n",
    "            \n",
    "            update(maze_final, i, j)\n",
    "            plt.imshow(maze, cmap=plt.cm.binary)\n",
    "            plt.pause(0.05)\n",
    "            \n",
    "            while i != 0 or j!= 0:\n",
    "                x = prev[i,j]\n",
    "                i, j = x[0], x[1]\n",
    "                update(maze_final, i, j)\n",
    "                plt.imshow(maze_final, cmap=plt.cm.binary)\n",
    "                plt.pause(0.05)\n",
    "            \n",
    "            update(maze_final, 0, 0)\n",
    "            plt.imshow(maze_final, cmap=plt.cm.binary)\n",
    "            plt.pause(0.05)\n",
    "            \n",
    "            break\n",
    "       \n",
    "    \n",
    "    \n",
    "    \n",
    "    \n",
    "    \n",
    "    \n",
    "        #check left solution\n",
    "        \n",
    "        #are we outside?\n",
    "        if j - 1 < 0:\n",
    "            pass\n",
    "        else:\n",
    "            #is the next position occupied or previously visited?\n",
    "            if maze[i][j - 1] == 1 or maze[i][j - 1] == 0.5:\n",
    "                #If so, move on\n",
    "                pass\n",
    "            else:\n",
    "                #check if already in fringe\n",
    "                if [i, j - 1, counter + Manhattan(maze, i, j - 1)] in fringe:\n",
    "                    pass\n",
    "                else:\n",
    "                    #if the fringe was empty (i.e. the first move), just add the first child to fringe\n",
    "                    if len(fringe) == 0: \n",
    "                        prev[(i, j - 1)] = (i, j)\n",
    "                        fringe.append((i, j - 1, counter + Manhattan(maze, i, j - 1)))\n",
    "                    #if the fringe is not empty, check the f(n) value and compare with items in fringe\n",
    "                    else:\n",
    "                        for x in range(len(fringe)-1,-1,-1): \n",
    "                            if counter + Manhattan(maze, i, j - 1) > fringe[x][2]:\n",
    "                                if x == 0:\n",
    "                                    fringe.insert(0, (i, j - 1, counter + Manhattan(maze, i, j - 1)))\n",
    "                                    prev[(i, j - 1)] = (i, j)\n",
    "                                else:\n",
    "                                    pass\n",
    "                            else: \n",
    "                                fringe.insert(x + 1, (i, j - 1, counter + Manhattan(maze, i, j - 1)))\n",
    "                                prev[(i, j - 1)] = (i, j)\n",
    "                                break\n",
    "                                \n",
    "                                \n",
    "        #check up solution\n",
    "        \n",
    "        #are we outside?\n",
    "        if i - 1 < 0:\n",
    "            pass\n",
    "        else:\n",
    "            #is the next position occupied or previously visited?\n",
    "            if maze[i - 1][j] == 1 or maze[i - 1][j] == 0.5:\n",
    "                pass\n",
    "            else:\n",
    "                #check if already in fringe\n",
    "                if [i - 1, j, counter + Manhattan(maze, i - 1, j)] in fringe:\n",
    "                    pass\n",
    "                else:\n",
    "                    #if the fringe was empty (i.e. the first move), just add the first child to fringe\n",
    "                    if len(fringe) == 0: \n",
    "                        prev[(i - 1, j)] = (i, j)\n",
    "                        fringe.append((i - 1, j, counter + Manhattan(maze, i - 1, j)))\n",
    "                    #if the fringe is not empty, check the f(n) value and compare with items in fringe\n",
    "                    else:\n",
    "                        for x in range(len(fringe)-1,-1,-1): \n",
    "                            if counter + Manhattan(maze, i - 1, j) > fringe[x][2]:\n",
    "                                if x == 0:\n",
    "                                    fringe.insert(0, (i - 1, j, counter + Manhattan(maze, i - 1, j)))\n",
    "                                    prev[(i - 1, j)] = (i, j)\n",
    "                                else: \n",
    "                                    pass\n",
    "                            else: \n",
    "                                fringe.insert(x + 1, (i - 1, j, counter + Manhattan(maze, i - 1, j)))\n",
    "                                prev[(i - 1, j)] = (i, j)\n",
    "                                break\n",
    "        #check right position\n",
    "        \n",
    "        #are we outside?\n",
    "        if j + 1 >= len(maze[i]):\n",
    "            pass\n",
    "        else:\n",
    "            #is the next position occupied or previously visited?\n",
    "            if maze[i][j + 1] == 1 or maze[i][j + 1] == 0.5:\n",
    "                pass\n",
    "            else:\n",
    "                #check if already in fringe\n",
    "                if [i, j + 1, counter + Manhattan(maze, i, j + 1)] in fringe:\n",
    "                    pass\n",
    "                else:\n",
    "                    #if the fringe was empty (i.e. the first move), just add the first child to fringe\n",
    "                    if len(fringe) == 0: \n",
    "                        prev[(i, j + 1)] = (i, j)\n",
    "                        fringe.append((i, j + 1, counter + Manhattan(maze, i, j + 1)))\n",
    "                    #if the fringe is not empty, check the f(n) value and compare with items in fringe\n",
    "                    else:\n",
    "                        for x in range(len(fringe)-1,-1,-1): \n",
    "                            if counter + Manhattan(maze, i, j + 1) > fringe[x][2]:\n",
    "                                if x == 0:\n",
    "                                    fringe.insert(0, (i, j + 1, counter + Manhattan(maze, i, j + 1)))\n",
    "                                    prev[(i, j + 1)] = (i, j)\n",
    "                                else: \n",
    "                                    pass\n",
    "                            else: \n",
    "                                fringe.insert(x + 1, (i, j + 1, counter + Manhattan(maze, i, j + 1)))\n",
    "                                prev[(i, j + 1)] = (i, j)\n",
    "                                break\n",
    "                                \n",
    "\n",
    "        \n",
    "        #check down position\n",
    "        \n",
    "        #are we outside?\n",
    "        if i + 1 >= len(maze):\n",
    "            pass\n",
    "        else:\n",
    "            #is the next position occupied or previously visited?\n",
    "            if maze[i + 1][j] == 1 or maze[i + 1][j] == 0.5:\n",
    "                pass\n",
    "            else:\n",
    "                #check if already in fringe\n",
    "                if [i + 1, j, counter + Manhattan(maze, i + 1, j)] in fringe:\n",
    "                    pass\n",
    "                else:\n",
    "                    #if the fringe was empty (i.e. the first move), just add the first child to fringe\n",
    "                    if len(fringe) == 0: \n",
    "                        prev[(i + 1, j)] = (i, j)\n",
    "                        fringe.append((i + 1, j, counter + Manhattan(maze, i + 1, j)))\n",
    "                    #if the fringe is not empty, check the f(n) value and compare with items in fringe\n",
    "                    else:\n",
    "                        for x in range(len(fringe)-1,-1,-1): \n",
    "                            if counter + Manhattan(maze, i + 1, j) > fringe[x][2]:\n",
    "                                if x == 0:\n",
    "                                    fringe.insert(0, (i + 1, j, counter + Manhattan(maze, i + 1, j)))\n",
    "                                    prev[(i + 1, j)] = (i, j)\n",
    "                                else: \n",
    "                                    pass\n",
    "                            else: \n",
    "                                fringe.insert(x + 1, (i + 1, j, counter + Manhattan(maze, i + 1, j)))\n",
    "                                prev[(i + 1, j)] = (i, j)\n",
    "                                break        \n",
    "        \n",
    "        \n",
    "        \n",
    "        #after done checking, update the maze and start over\n",
    "        update(maze, i, j)\n",
    "        \n",
    "        plt.imshow(maze, cmap=plt.cm.binary)\n",
    "        plt.pause(0.05)\n",
    "        \n",
    "    plt.show()\n",
    "    "
   ]
  },
  {
   "cell_type": "code",
   "execution_count": 845,
   "metadata": {
    "scrolled": false
   },
   "outputs": [
    {
     "data": {
      "image/png": "[encoded data removed]",
      "text/plain": [
       "<Figure size 432x288 with 1 Axes>"
      ]
     },
     "metadata": {
      "needs_background": "light"
     },
     "output_type": "display_data"
    },
    {
     "data": {
      "image/png": "[encoded data removed]",
      "text/plain": [
       "<Figure size 432x288 with 1 Axes>"
      ]
     },
     "metadata": {
      "needs_background": "light"
     },
     "output_type": "display_data"
    },
    {
     "data": {
      "image/png": "[encoded data removed]",
      "text/plain": [
       "<Figure size 432x288 with 1 Axes>"
      ]
     },
     "metadata": {
      "needs_background": "light"
     },
     "output_type": "display_data"
    },
    {
     "data": {
      "image/png": "[encoded data removed]",
      "text/plain": [
       "<Figure size 432x288 with 1 Axes>"
      ]
     },
     "metadata": {
      "needs_background": "light"
     },
     "output_type": "display_data"
    },
    {
     "data": {
      "image/png": "[encoded data removed]",
      "text/plain": [
       "<Figure size 432x288 with 1 Axes>"
      ]
     },
     "metadata": {
      "needs_background": "light"
     },
     "output_type": "display_data"
    },
    {
     "data": {
      "image/png": "[encoded data removed]",
      "text/plain": [
       "<Figure size 432x288 with 1 Axes>"
      ]
     },
     "metadata": {
      "needs_background": "light"
     },
     "output_type": "display_data"
    },
    {
     "data": {
      "image/png": "[encoded data removed]",
      "text/plain": [
       "<Figure size 432x288 with 1 Axes>"
      ]
     },
     "metadata": {
      "needs_background": "light"
     },
     "output_type": "display_data"
    },
    {
     "data": {
      "image/png": "[encoded data removed]",
      "text/plain": [
       "<Figure size 432x288 with 1 Axes>"
      ]
     },
     "metadata": {
      "needs_background": "light"
     },
     "output_type": "display_data"
    },
    {
     "data": {
      "image/png": "[encoded data removed]",
      "text/plain": [
       "<Figure size 432x288 with 1 Axes>"
      ]
     },
     "metadata": {
      "needs_background": "light"
     },
     "output_type": "display_data"
    },
    {
     "data": {
      "image/png": "[encoded data removed]",
      "text/plain": [
       "<Figure size 432x288 with 1 Axes>"
      ]
     },
     "metadata": {
      "needs_background": "light"
     },
     "output_type": "display_data"
    },
    {
     "data": {
      "image/png": "[encoded data removed]",
      "text/plain": [
       "<Figure size 432x288 with 1 Axes>"
      ]
     },
     "metadata": {
      "needs_background": "light"
     },
     "output_type": "display_data"
    },
    {
     "data": {
      "image/png": "[encoded data removed]",
      "text/plain": [
       "<Figure size 432x288 with 1 Axes>"
      ]
     },
     "metadata": {
      "needs_background": "light"
     },
     "output_type": "display_data"
    },
    {
     "data": {
      "image/png": "[encoded data removed]",
      "text/plain": [
       "<Figure size 432x288 with 1 Axes>"
      ]
     },
     "metadata": {
      "needs_background": "light"
     },
     "output_type": "display_data"
    },
    {
     "data": {
      "image/png": "[encoded data removed]",
      "text/plain": [
       "<Figure size 432x288 with 1 Axes>"
      ]
     },
     "metadata": {
      "needs_background": "light"
     },
     "output_type": "display_data"
    },
    {
     "data": {
      "image/png": "[encoded data removed]",
      "text/plain": [
       "<Figure size 432x288 with 1 Axes>"
      ]
     },
     "metadata": {
      "needs_background": "light"
     },
     "output_type": "display_data"
    },
    {
     "data": {
      "image/png": "[encoded data removed]",
      "text/plain": [
       "<Figure size 432x288 with 1 Axes>"
      ]
     },
     "metadata": {
      "needs_background": "light"
     },
     "output_type": "display_data"
    },
    {
     "data": {
      "image/png": "[encoded data removed]",
      "text/plain": [
       "<Figure size 432x288 with 1 Axes>"
      ]
     },
     "metadata": {
      "needs_background": "light"
     },
     "output_type": "display_data"
    },
    {
     "data": {
      "image/png": "[encoded data removed]",
      "text/plain": [
       "<Figure size 432x288 with 1 Axes>"
      ]
     },
     "metadata": {
      "needs_background": "light"
     },
     "output_type": "display_data"
    },
    {
     "data": {
      "image/png": "[encoded data removed]",
      "text/plain": [
       "<Figure size 432x288 with 1 Axes>"
      ]
     },
     "metadata": {
      "needs_background": "light"
     },
     "output_type": "display_data"
    },
    {
     "data": {
      "image/png": "[encoded data removed]",
      "text/plain": [
       "<Figure size 432x288 with 1 Axes>"
      ]
     },
     "metadata": {
      "needs_background": "light"
     },
     "output_type": "display_data"
    },
    {
     "data": {
      "image/png": "[encoded data removed]",
      "text/plain": [
       "<Figure size 432x288 with 1 Axes>"
      ]
     },
     "metadata": {
      "needs_background": "light"
     },
     "output_type": "display_data"
    },
    {
     "data": {
      "image/png": "[encoded data removed]",
      "text/plain": [
       "<Figure size 432x288 with 1 Axes>"
      ]
     },
     "metadata": {
      "needs_background": "light"
     },
     "output_type": "display_data"
    },
    {
     "data": {
      "image/png": "[encoded data removed]",
      "text/plain": [
       "<Figure size 432x288 with 1 Axes>"
      ]
     },
     "metadata": {
      "needs_background": "light"
     },
     "output_type": "display_data"
    },
    {
     "name": "stdout",
     "output_type": "stream",
     "text": [
      "SOLVED\n"
     ]
    },
    {
     "data": {
      "image/png": "[encoded data removed]",
      "text/plain": [
       "<Figure size 432x288 with 1 Axes>"
      ]
     },
     "metadata": {
      "needs_background": "light"
     },
     "output_type": "display_data"
    },
    {
     "data": {
      "image/png": "[encoded data removed]",
      "text/plain": [
       "<Figure size 432x288 with 1 Axes>"
      ]
     },
     "metadata": {
      "needs_background": "light"
     },
     "output_type": "display_data"
    },
    {
     "data": {
      "image/png": "[encoded data removed]",
      "text/plain": [
       "<Figure size 432x288 with 1 Axes>"
      ]
     },
     "metadata": {
      "needs_background": "light"
     },
     "output_type": "display_data"
    },
    {
     "data": {
      "image/png": "[encoded data removed]",
      "text/plain": [
       "<Figure size 432x288 with 1 Axes>"
      ]
     },
     "metadata": {
      "needs_background": "light"
     },
     "output_type": "display_data"
    },
    {
     "data": {
      "image/png": "[encoded data removed]",
      "text/plain": [
       "<Figure size 432x288 with 1 Axes>"
      ]
     },
     "metadata": {
      "needs_background": "light"
     },
     "output_type": "display_data"
    },
    {
     "data": {
      "image/png": "[encoded data removed]",
      "text/plain": [
       "<Figure size 432x288 with 1 Axes>"
      ]
     },
     "metadata": {
      "needs_background": "light"
     },
     "output_type": "display_data"
    },
    {
     "data": {
      "image/png": "[encoded data removed]",
      "text/plain": [
       "<Figure size 432x288 with 1 Axes>"
      ]
     },
     "metadata": {
      "needs_background": "light"
     },
     "output_type": "display_data"
    },
    {
     "data": {
      "image/png": "[encoded data removed]",
      "text/plain": [
       "<Figure size 432x288 with 1 Axes>"
      ]
     },
     "metadata": {
      "needs_background": "light"
     },
     "output_type": "display_data"
    },
    {
     "data": {
      "image/png": "[encoded data removed]",
      "text/plain": [
       "<Figure size 432x288 with 1 Axes>"
      ]
     },
     "metadata": {
      "needs_background": "light"
     },
     "output_type": "display_data"
    },
    {
     "data": {
      "image/png": "[encoded data removed]",
      "text/plain": [
       "<Figure size 432x288 with 1 Axes>"
      ]
     },
     "metadata": {
      "needs_background": "light"
     },
     "output_type": "display_data"
    },
    {
     "data": {
      "image/png": "[encoded data removed]",
      "text/plain": [
       "<Figure size 432x288 with 1 Axes>"
      ]
     },
     "metadata": {
      "needs_background": "light"
     },
     "output_type": "display_data"
    },
    {
     "data": {
      "image/png": "[encoded data removed]",
      "text/plain": [
       "<Figure size 432x288 with 1 Axes>"
      ]
     },
     "metadata": {
      "needs_background": "light"
     },
     "output_type": "display_data"
    },
    {
     "data": {
      "image/png": "[encoded data removed]",
      "text/plain": [
       "<Figure size 432x288 with 1 Axes>"
      ]
     },
     "metadata": {
      "needs_background": "light"
     },
     "output_type": "display_data"
    },
    {
     "data": {
      "image/png": "[encoded data removed]",
      "text/plain": [
       "<Figure size 432x288 with 1 Axes>"
      ]
     },
     "metadata": {
      "needs_background": "light"
     },
     "output_type": "display_data"
    },
    {
     "data": {
      "image/png": "[encoded data removed]",
      "text/plain": [
       "<Figure size 432x288 with 1 Axes>"
      ]
     },
     "metadata": {
      "needs_background": "light"
     },
     "output_type": "display_data"
    },
    {
     "data": {
      "image/png": "[encoded data removed]",
      "text/plain": [
       "<Figure size 432x288 with 1 Axes>"
      ]
     },
     "metadata": {
      "needs_background": "light"
     },
     "output_type": "display_data"
    },
    {
     "data": {
      "image/png": "[encoded data removed]",
      "text/plain": [
       "<Figure size 432x288 with 1 Axes>"
      ]
     },
     "metadata": {
      "needs_background": "light"
     },
     "output_type": "display_data"
    },
    {
     "data": {
      "image/png": "[encoded data removed]",
      "text/plain": [
       "<Figure size 432x288 with 1 Axes>"
      ]
     },
     "metadata": {
      "needs_background": "light"
     },
     "output_type": "display_data"
    },
    {
     "data": {
      "image/png": "[encoded data removed]",
      "text/plain": [
       "<Figure size 432x288 with 1 Axes>"
      ]
     },
     "metadata": {
      "needs_background": "light"
     },
     "output_type": "display_data"
    },
    {
     "data": {
      "image/png": "[encoded data removed]",
      "text/plain": [
       "<Figure size 432x288 with 1 Axes>"
      ]
     },
     "metadata": {
      "needs_background": "light"
     },
     "output_type": "display_data"
    },
    {
     "data": {
      "image/png": "[encoded data removed]",
      "text/plain": [
       "<Figure size 432x288 with 1 Axes>"
      ]
     },
     "metadata": {
      "needs_background": "light"
     },
     "output_type": "display_data"
    },
    {
     "data": {
      "image/png": "[encoded data removed]",
      "text/plain": [
       "<Figure size 432x288 with 1 Axes>"
      ]
     },
     "metadata": {
      "needs_background": "light"
     },
     "output_type": "display_data"
    },
    {
     "data": {
      "image/png": "[encoded data removed]",
      "text/plain": [
       "<Figure size 432x288 with 1 Axes>"
      ]
     },
     "metadata": {
      "needs_background": "light"
     },
     "output_type": "display_data"
    },
    {
     "data": {
      "image/png": "[encoded data removed]",
      "text/plain": [
       "<Figure size 432x288 with 1 Axes>"
      ]
     },
     "metadata": {
      "needs_background": "light"
     },
     "output_type": "display_data"
    }
   ],
   "source": [
    "AstarM(grid(10,0.3))"
   ]
  },
  {
   "cell_type": "code",
   "execution_count": 718,
   "metadata": {},
   "outputs": [],
   "source": [
    "#Bi-Directional BFS\n",
    "\n",
    "def BiBFS(maze):\n",
    "#initialized state is set to false\n",
    "#i,j-->row,column from start m,n-->row,column from end\n",
    "    maze_final=np.copy(maze)\n",
    "    solved=False\n",
    "    i,j=0,0\n",
    "    m,n=len(maze)-1,len(maze[0])-1\n",
    "    prev={}\n",
    "    prev2={}\n",
    "    \n",
    "#initialize fringe for starting point and fringe from ending point\n",
    "    fringeStart=queue.Queue()\n",
    "    fringeStart.put([i,j])\n",
    "    fringeEnd=queue.Queue()\n",
    "    fringeEnd.put([m,n])\n",
    "    \n",
    "    #run loop until start and end meet or no solution\n",
    "    while solved==False:\n",
    "        #if maze is still unsolved and there are no more children left in fringe, maze is unsolvable\n",
    "        if (queue.Queue.qsize(fringeStart)==0 or queue.Queue.qsize(fringeEnd)==0):\n",
    "            #update state of maze, display result, then break loop\n",
    "            update(maze,i,j)\n",
    "            update(maze,m,n)\n",
    "            plt.imshow(maze, cmap=plt.cm.binary)\n",
    "            plt.pause(0.05)\n",
    "            print(\"UNSOLVABLE\")\n",
    "            break\n",
    "            \n",
    "        #gets current node and updates i,j and m,n\n",
    "        currentStart=fringeStart.get()\n",
    "        currentEnd=fringeEnd.get()\n",
    "        i,j=currentStart[0],currentStart[1]\n",
    "        m,n=currentEnd[0],currentEnd[1]\n",
    "        \n",
    "        #check if start and end meet in middle,display result, then break loop\n",
    "        if (i+1,j) in prev2:\n",
    "            m, n = i+1, j\n",
    "            solved = True\n",
    "            \n",
    "        if (i,j+1) in prev2:\n",
    "            m, n = i, j+1\n",
    "            solved = True\n",
    "            \n",
    "        if (i-1,j) in prev2:\n",
    "            m, n = i-1, j\n",
    "            solved = True\n",
    "            \n",
    "        if (i,j-1) in prev2:\n",
    "            m,n = i, j-1\n",
    "            solved = True\n",
    "        \n",
    "        if solved == True:\n",
    "            update(maze,i,j)\n",
    "            update(maze,m,n)\n",
    "            plt.imshow(maze, cmap=plt.cm.binary)\n",
    "            plt.pause(0.05)\n",
    "            print(\"SOLVED\")\n",
    "\n",
    "            update(maze_final,i,j)\n",
    "            update(maze_final,m,n)\n",
    "            plt.imshow(maze_final, cmap=plt.cm.binary)\n",
    "            plt.pause(0.05)\n",
    "\n",
    "            while True:\n",
    "                if i==0 and j==0 and m==len(maze)-1 and n==len(maze[0])-1:\n",
    "                    break\n",
    "                    \n",
    "                print(\"i =\",i)\n",
    "                print(\"j =\",j)\n",
    "                print(\"m =\",m)\n",
    "                print(\"n =\",n)\n",
    "                if (i,j) == (0,0):\n",
    "                    y=prev2[(m,n)]\n",
    "                    m,n=y[0],y[1]\n",
    "                    update(maze_final,m,n)\n",
    "                    plt.imshow(maze_final, cmap=plt.cm.binary)\n",
    "                    plt.pause(0.05)\n",
    "                elif (m,n) == (len(maze)-1, len(maze[0])-1):\n",
    "                    x=prev[(i,j)]\n",
    "                    i,j=x[0],x[1]\n",
    "                    update(maze_final,i,j)\n",
    "                    update(maze_final,m,n)\n",
    "                    plt.imshow(maze_final, cmap=plt.cm.binary)\n",
    "                    plt.pause(0.05)\n",
    "                    \n",
    "                else:\n",
    "                    x=prev[(i,j)]\n",
    "                    y=prev2[(m,n)]\n",
    "                    i,j=x[0],x[1]\n",
    "                    m,n=y[0],y[1]\n",
    "                    update(maze_final,i,j)\n",
    "                    update(maze_final,m,n)\n",
    "                    plt.imshow(maze_final, cmap=plt.cm.binary)\n",
    "                    plt.pause(0.05)\n",
    "\n",
    "            update(maze_final,0,0)\n",
    "            update(maze_final,len(maze)-1,len(maze[0])-1)\n",
    "            plt.imshow(maze_final, cmap=plt.cm.binary)\n",
    "            plt.pause(0.05)\n",
    "\n",
    "            break\n",
    "            \n",
    "        #check down position of i,j\n",
    "        if i + 1 >= len(maze):\n",
    "            pass\n",
    "        else:\n",
    "            #is the next position occupied or previously visited?\n",
    "            if maze[i + 1][j] == 1 or maze[i + 1][j] == 0.5:\n",
    "                pass\n",
    "            else:\n",
    "                #add to fringe if valid and is not already in fringe\n",
    "                if [i + 1, j] in fringeStart.queue:\n",
    "                    pass\n",
    "                else:\n",
    "                    prev[(i + 1, j)] = (i, j)\n",
    "                    fringeStart.put([i + 1, j])\n",
    "                    \n",
    "        #check up position of m,n\n",
    "        if m - 1 < 0:\n",
    "            pass\n",
    "        else:\n",
    "            #is the next position occupied or previously visited?\n",
    "            if maze[m - 1][n] == 1 or maze[m - 1][n] == 0.5:\n",
    "                pass\n",
    "            else:\n",
    "                #add to fringe if valid and is not already in fringe\n",
    "                if [m - 1, n] in fringeEnd.queue:\n",
    "                    pass\n",
    "                else:\n",
    "                    prev2[(m - 1, n)] = (m, n)\n",
    "                    fringeEnd.put([m - 1, n])\n",
    "                    \n",
    "        #check right position of i,j\n",
    "        if j + 1 >= len(maze[i]):\n",
    "            pass\n",
    "        else:\n",
    "            #is the next position occupied or iously visited?\n",
    "            if maze[i][j + 1] == 1 or maze[i][j + 1] == 0.5:\n",
    "                pass\n",
    "            else:\n",
    "                #add to fringe if valid and is not already in fringe\n",
    "                if [i, j + 1] in fringeStart.queue:\n",
    "                    pass\n",
    "                else:\n",
    "                    prev[(i, j + 1)] = (i, j)\n",
    "                    fringeStart.put([i, j + 1])\n",
    "                    \n",
    "        #check left position of m,n\n",
    "        if n - 1 < 0:\n",
    "            pass\n",
    "        else:\n",
    "            #is the next position occupied or previously visited?\n",
    "            if maze[m][n - 1] == 1 or maze[m][n - 1] == 0.5:\n",
    "                pass\n",
    "            else:\n",
    "                #add to fringe if valid and is not already in fringe\n",
    "                if [m, n - 1] in fringeEnd.queue:\n",
    "                    pass\n",
    "                else:\n",
    "                    prev2[(m, n - 1)] = (m, n)\n",
    "                    fringeEnd.put([m, n - 1])\n",
    "                    \n",
    "        #check up position of i,j\n",
    "        if i - 1 < 0:\n",
    "            pass\n",
    "        else:\n",
    "            #is the next position occupied or previously visited?\n",
    "            if maze[i - 1][j] == 1 or maze[i - 1][j] == 0.5:\n",
    "                pass\n",
    "            else:\n",
    "                #add to fringe if valid and is not already in fringe\n",
    "                if [i - 1, j] in fringeStart.queue:\n",
    "                    pass\n",
    "                else:\n",
    "                    prev[(i - 1, j)] = (i, j)\n",
    "                    fringeStart.put([i - 1, j])\n",
    "                    \n",
    "        #check down position of m,n\n",
    "        if m + 1 >= len(maze):\n",
    "            pass\n",
    "        else:\n",
    "            #is the next position occupied or previously visited?\n",
    "            if maze[m + 1][n] == 1 or maze[m + 1][n] == 0.5:\n",
    "                pass\n",
    "            else:\n",
    "                #add to fringe if valid and is not already in fringe\n",
    "                if [m + 1, n] in fringeEnd.queue:\n",
    "                    pass\n",
    "                else:\n",
    "                    prev2[(m + 1, n)] = (m, n)\n",
    "                    fringeEnd.put([m + 1, n])\n",
    "                    \n",
    "        #check left position of i,j\n",
    "        if j - 1 < 0:\n",
    "            pass\n",
    "        else:\n",
    "            #is the next position occupied or previously visited?\n",
    "            if maze[i][j - 1] == 1 or maze[i][j - 1] == 0.5:\n",
    "                pass\n",
    "            else:\n",
    "                #add to fringe if valid and is not already in fringe\n",
    "                if [i, j - 1] in fringeStart.queue:\n",
    "                    pass\n",
    "                else:\n",
    "                    prev[(i, j - 1)] = (i, j)\n",
    "                    fringeStart.put([i, j - 1])\n",
    "                    \n",
    "        #check right position of m,n\n",
    "        if n + 1 >= len(maze[m]):\n",
    "            pass\n",
    "        else:\n",
    "            #is the next position occupied or previously visited?\n",
    "            if maze[m][n + 1] == 1 or maze[m][n + 1] == 0.5:\n",
    "                pass\n",
    "            else:\n",
    "                #add to fringe if valid and is not already in fringe\n",
    "                if [m, n + 1] in fringeEnd.queue:\n",
    "                    pass\n",
    "                else:\n",
    "                    prev2[(m, n + 1)] = (m, n)\n",
    "                    fringeEnd.put([m, n + 1])\n",
    "                    \n",
    "        #after done checking, update maze and start over\n",
    "        update(maze, i, j)\n",
    "        update(maze,m,n)\n",
    "        plt.imshow(maze, cmap=plt.cm.binary)\n",
    "        plt.pause(0.05)\n",
    "    plt.show()"
   ]
  },
  {
   "cell_type": "code",
   "execution_count": 720,
   "metadata": {},
   "outputs": [
    {
     "data": {
      "image/png": "[encoded data removed]",
      "text/plain": [
       "<Figure size 432x288 with 1 Axes>"
      ]
     },
     "metadata": {
      "needs_background": "light"
     },
     "output_type": "display_data"
    },
    {
     "data": {
      "image/png": "[encoded data removed]",
      "text/plain": [
       "<Figure size 432x288 with 1 Axes>"
      ]
     },
     "metadata": {
      "needs_background": "light"
     },
     "output_type": "display_data"
    },
    {
     "data": {
      "image/png": "[encoded data removed]",
      "text/plain": [
       "<Figure size 432x288 with 1 Axes>"
      ]
     },
     "metadata": {
      "needs_background": "light"
     },
     "output_type": "display_data"
    },
    {
     "name": "stdout",
     "output_type": "stream",
     "text": [
      "UNSOLVABLE\n"
     ]
    }
   ],
   "source": [
    "#test bidirection bfs\n",
    "BiBFS(grid(5,0.3))"
   ]
  },
  {
   "cell_type": "code",
   "execution_count": null,
   "metadata": {},
   "outputs": [],
   "source": []
  },
  {
   "cell_type": "code",
   "execution_count": 731,
   "metadata": {},
   "outputs": [
    {
     "name": "stdout",
     "output_type": "stream",
     "text": [
      "[3, 1]\n",
      "[3, 2, 1]\n",
      "1\n",
      "[3, 2]\n"
     ]
    }
   ],
   "source": [
    "list = [3,1]\n",
    "print(list)\n",
    "list.insert(1,2)\n",
    "print(list)\n",
    "print(list.pop())\n",
    "print(list)"
   ]
  },
  {
   "cell_type": "code",
   "execution_count": null,
   "metadata": {},
   "outputs": [],
   "source": []
  },
  {
   "cell_type": "code",
   "execution_count": 819,
   "metadata": {},
   "outputs": [
    {
     "name": "stdout",
     "output_type": "stream",
     "text": [
      "[(1, 2, 3), (1, 2, 2), (1, 2, 1)]\n"
     ]
    }
   ],
   "source": [
    "list = [(1,2,3), (1,2,2), (1,2,0)]\n",
    "y = (1,2,1)\n",
    "list.pop()\n",
    "for x in range(len(list)-1,-1,-1): \n",
    "    if y[2] > list[x][2]:\n",
    "        if x==0:\n",
    "            list.insert(x,y)\n",
    "        else: \n",
    "            pass\n",
    "    else: \n",
    "        list.insert(x + 1,y)\n",
    "        break\n",
    "        \n",
    "print(list)\n",
    "\n",
    "if (1, 2, 2.5) in list:\n",
    "    print(\"woot\")"
   ]
  },
  {
   "cell_type": "code",
   "execution_count": null,
   "metadata": {},
   "outputs": [],
   "source": []
  },
  {
   "cell_type": "code",
   "execution_count": null,
   "metadata": {},
   "outputs": [],
   "source": []
  }
 ],
 "metadata": {
  "kernelspec": {
   "display_name": "Python 3",
   "language": "python",
   "name": "python3"
  },
  "language_info": {
   "codemirror_mode": {
    "name": "ipython",
    "version": 3
   },
   "file_extension": ".py",
   "mimetype": "text/x-python",
   "name": "python",
   "nbconvert_exporter": "python",
   "pygments_lexer": "ipython3",
   "version": "3.7.3"
  }
 },
 "nbformat": 4,
 "nbformat_minor": 2
}
