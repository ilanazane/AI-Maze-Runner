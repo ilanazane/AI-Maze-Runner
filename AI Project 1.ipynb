{
 "cells": [
  {
   "cell_type": "code",
   "execution_count": 10,
   "metadata": {},
   "outputs": [],
   "source": [
    "import numpy as np\n",
    "import matplotlib.pyplot as plt\n",
    "import random"
   ]
  },
  {
   "cell_type": "code",
   "execution_count": 106,
   "metadata": {},
   "outputs": [
    {
     "name": "stdout",
     "output_type": "stream",
     "text": [
      "0.7375 zeros\n",
      "0.2625 ones\n"
     ]
    },
    {
     "data": {
      "image/png": "[encoded data removed]",
      "text/plain": [
       "<Figure size 720x720 with 1 Axes>"
      ]
     },
     "metadata": {
      "needs_background": "light"
     },
     "output_type": "display_data"
    }
   ],
   "source": [
    "'''\n",
    "Define the grid to be working with\n",
    "\n",
    "            **inputs**\n",
    "\n",
    "-dim = dimension size of the grid \n",
    "-p = probability that a grid spot will be filled or open as inputs\n",
    "'''\n",
    "\n",
    "def grid(dim, p):\n",
    "    #start with a dim by dim zero array\n",
    "    a = np.zeros((dim,dim))\n",
    "    for item in range(dim):\n",
    "        for thing in range(dim):\n",
    "            #makes sure the top left spot is empty\n",
    "            if item == 0 and thing == 0:\n",
    "                continue\n",
    "            #makes sure the bottom right spot is empty\n",
    "            elif item == dim - 1 and thing == dim - 1:\n",
    "                continue\n",
    "            #change the cells based off of the value of p and our random number\n",
    "            else:\n",
    "                x = random.random()\n",
    "                #if our random number is less than p, then the cell will not be filled\n",
    "                if p < x:\n",
    "                    a[item][thing] = 0\n",
    "                #if our random number is greater than p, then the cell will  be filled\n",
    "                else:\n",
    "                    a[item][thing] = 1\n",
    "    #visualization of the grid\n",
    "    \n",
    "    #print(a)\n",
    "    \n",
    "    #This is just checking to see the ratio of ones to zeros\n",
    "    ones, zeros, total = 0, 0, 0\n",
    "    for item in a:\n",
    "        for thing in item:\n",
    "            if thing == 1:\n",
    "                ones += 1\n",
    "                total += 1\n",
    "            else:\n",
    "                zeros += 1\n",
    "                total += 1\n",
    "    print(zeros/total, \"zeros\")\n",
    "    print(ones/total, \"ones\")\n",
    "    \n",
    "    plt.figure(figsize=(10,10))\n",
    "    plt.imshow(a, cmap=plt.cm.binary)\n",
    "    return a\n",
    "\n",
    "\n",
    "a = grid(20,0.3)\n"
   ]
  },
  {
   "cell_type": "code",
   "execution_count": null,
   "metadata": {},
   "outputs": [],
   "source": []
  },
  {
   "cell_type": "code",
   "execution_count": null,
   "metadata": {},
   "outputs": [],
   "source": []
  },
  {
   "cell_type": "code",
   "execution_count": null,
   "metadata": {},
   "outputs": [],
   "source": []
  }
 ],
 "metadata": {
  "kernelspec": {
   "display_name": "Python 3",
   "language": "python",
   "name": "python3"
  },
  "language_info": {
   "codemirror_mode": {
    "name": "ipython",
    "version": 3
   },
   "file_extension": ".py",
   "mimetype": "text/x-python",
   "name": "python",
   "nbconvert_exporter": "python",
   "pygments_lexer": "ipython3",
   "version": "3.7.3"
  }
 },
 "nbformat": 4,
 "nbformat_minor": 2
}
