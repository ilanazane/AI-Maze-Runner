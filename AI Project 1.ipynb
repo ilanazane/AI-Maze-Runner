{
 "cells": [
  {
   "cell_type": "code",
   "execution_count": 423,
   "metadata": {},
   "outputs": [],
   "source": [
    "import numpy as np\n",
    "import matplotlib.pyplot as plt\n",
    "import random\n",
    "import queue\n",
    "import time\n",
    "from IPython.display import clear_output"
   ]
  },
  {
   "cell_type": "code",
   "execution_count": 456,
   "metadata": {},
   "outputs": [],
   "source": [
    "'''\n",
    "Define the grid to be working with\n",
    "\n",
    "            **inputs**\n",
    "\n",
    "-dim = dimension size of the grid \n",
    "-p = probability that a grid spot will be filled or open\n",
    "'''\n",
    "\n",
    "def grid(dim, p):\n",
    "    #start with a dim by dim zero array\n",
    "    a = np.zeros((dim,dim))\n",
    "    for item in range(dim):\n",
    "        for thing in range(dim):\n",
    "            #makes sure the top left spot is empty\n",
    "            if item == 0 and thing == 0:\n",
    "                pass\n",
    "            #makes sure the bottom right spot is empty\n",
    "            elif item == dim - 1 and thing == dim - 1:\n",
    "                pass\n",
    "            #change the cells based off of the value of p and our random number\n",
    "            else:\n",
    "                x = random.random()\n",
    "                #if our random number is less than p, then the cell will not be filled\n",
    "                if p < x:\n",
    "                    a[item][thing] = 0\n",
    "                #if our random number is greater than p, then the cell will  be filled\n",
    "                else:\n",
    "                    a[item][thing] = 1\n",
    "    #visualization of the grid\n",
    "    \n",
    "    #print(a)\n",
    "    \n",
    "    #This is just checking to see the ratio of ones to zeros\n",
    "    '''\n",
    "    ones, zeros, total = 0, 0, 0\n",
    "    for item in a:\n",
    "        for thing in item:\n",
    "            if thing == 1:\n",
    "                ones += 1\n",
    "                total += 1\n",
    "            else:\n",
    "                zeros += 1\n",
    "                total += 1\n",
    "    print(zeros/total, \"zeros\")\n",
    "    print(ones/total, \"ones\")\n",
    "    '''\n",
    "    plt.figure(figsize=(5,5))\n",
    "    plt.imshow(a, cmap=plt.cm.binary)\n",
    "    plt.show()\n",
    "    time.sleep(2)\n",
    "    #plt.imshow(a)\n",
    "    return a\n",
    "\n",
    "\n",
    "def update(maze, i, j):\n",
    "    clear_output()\n",
    "    maze[i][j] = 0.5\n",
    "    #plt.figure(figsize=(5,5))\n",
    "    #plt.imshow(maze, cmap=plt.cm.binary)\n",
    "    #plt.show()\n",
    "    #time.sleep(0.1)\n"
   ]
  },
  {
   "cell_type": "code",
   "execution_count": 457,
   "metadata": {},
   "outputs": [
    {
     "data": {
      "image/png": "[encoded data removed]",
      "text/plain": [
       "<Figure size 360x360 with 1 Axes>"
      ]
     },
     "metadata": {
      "needs_background": "light"
     },
     "output_type": "display_data"
    }
   ],
   "source": [
    "a = grid(30,0.5)"
   ]
  },
  {
   "cell_type": "code",
   "execution_count": 461,
   "metadata": {},
   "outputs": [],
   "source": [
    "#BFS\n",
    "\n",
    "def BFS(maze):\n",
    "    i, j = 0, 0\n",
    "    dict = {}\n",
    "    #initialize the solved state of the maze to be false\n",
    "    solved = False\n",
    "    #initialize the fringe and store the starting point of the maze\n",
    "    fringe = queue.Queue()\n",
    "    #i controls row and j controls column\n",
    "    fringe.put([i, j])\n",
    "    \n",
    "    #runs until we reach the end\n",
    "    while solved == False:\n",
    "        #print out the length of the current fringe\n",
    "        #print(queue.Queue.qsize(fringe))\n",
    "            \n",
    "        #looks at the queue\n",
    "        #for q_item in fringe.queue:\n",
    "            #print(q_item)\n",
    "            \n",
    "        #Is the maze unsolvable?\n",
    "        if queue.Queue.qsize(fringe) == 0:\n",
    "            update(maze, i , j)\n",
    "            plt.figure(figsize=(5,5))\n",
    "            plt.imshow(maze, cmap=plt.cm.binary)\n",
    "            plt.show()\n",
    "            print(\"UNSOLVABLE\")\n",
    "            break\n",
    "            \n",
    "        #gets the current node\n",
    "        current = fringe.get()\n",
    "        i, j = current[0], current[1]\n",
    "        \n",
    "        if i + 1 == len(maze) and j + 1 == len(maze[i]):\n",
    "            update(maze, i , j)\n",
    "            plt.figure(figsize=(5,5))\n",
    "            plt.imshow(maze, cmap=plt.cm.binary)\n",
    "            plt.show()\n",
    "            print(\"SOLVED\")\n",
    "            break\n",
    "        \n",
    "        #check down position\n",
    "        if j + 1 >= len(maze[i]):\n",
    "            pass\n",
    "        else:\n",
    "            if maze[i][j + 1] == 1 or maze[i][j + 1] == 0.5:\n",
    "                pass\n",
    "            else:\n",
    "                if [i, j + 1] in fringe.queue:\n",
    "                    print(\"already there!\")\n",
    "                else:\n",
    "                    fringe.put([i, j + 1])\n",
    "\n",
    "        #check right position\n",
    "        if i + 1 >= len(maze):\n",
    "            pass\n",
    "        else:\n",
    "            if maze[i + 1][j] == 1 or maze[i + 1][j] == 0.5:\n",
    "                pass\n",
    "            else:\n",
    "                if [i + 1, j] in fringe.queue:\n",
    "                    print(\"already there!\")\n",
    "                else:\n",
    "                    fringe.put([i + 1, j])\n",
    "        \n",
    "        #check up solution\n",
    "        if j - 1 < 0:\n",
    "            pass\n",
    "        else:\n",
    "            if maze[i][j - 1] == 1 or maze[i][j - 1] == 0.5:\n",
    "                pass\n",
    "            else:\n",
    "                if [i, j - 1] in fringe.queue:\n",
    "                    print(\"already there!\")\n",
    "                else:\n",
    "                    fringe.put([i, j - 1])\n",
    "        \n",
    "        #check left solution\n",
    "        if i - 1 < 0:\n",
    "            pass\n",
    "        else:\n",
    "            if maze[i - 1][j] == 1 or maze[i - 1][j] == 0.5:\n",
    "                pass\n",
    "            else:\n",
    "                if [i - 1, j] in fringe.queue:\n",
    "                    print(\"already there!\")\n",
    "                else:\n",
    "                    fringe.put([i - 1, j])\n",
    "        \n",
    "        update(maze, i, j)"
   ]
  },
  {
   "cell_type": "code",
   "execution_count": 466,
   "metadata": {},
   "outputs": [
    {
     "data": {
      "image/png": "[encoded data removed]",
      "text/plain": [
       "<Figure size 360x360 with 1 Axes>"
      ]
     },
     "metadata": {
      "needs_background": "light"
     },
     "output_type": "display_data"
    },
    {
     "name": "stdout",
     "output_type": "stream",
     "text": [
      "SOLVED\n"
     ]
    }
   ],
   "source": [
    "BFS(grid(30,0.4))\n"
   ]
  },
  {
   "cell_type": "code",
   "execution_count": null,
   "metadata": {},
   "outputs": [],
   "source": [
    "\n",
    "    "
   ]
  },
  {
   "cell_type": "code",
   "execution_count": 391,
   "metadata": {},
   "outputs": [
    {
     "name": "stdout",
     "output_type": "stream",
     "text": [
      "[1, 2]\n",
      "[3, 4]\n"
     ]
    },
    {
     "data": {
      "text/plain": [
       "[3, 4]"
      ]
     },
     "execution_count": 391,
     "metadata": {},
     "output_type": "execute_result"
    }
   ],
   "source": [
    "t = queue.Queue()\n",
    "t.put([1,2])\n",
    "t.put([3,4])\n",
    "for q_item in t.queue:\n",
    "    print(q_item)\n",
    "    \n",
    "t.get()\n",
    "\n",
    "    \n",
    "if [1, 2] in t.queue:\n",
    "    print('woo')\n",
    "else:\n",
    "    t.put([1,2])\n",
    "\n",
    "t.get()"
   ]
  },
  {
   "cell_type": "code",
   "execution_count": null,
   "metadata": {},
   "outputs": [],
   "source": [
    "\n"
   ]
  },
  {
   "cell_type": "code",
   "execution_count": null,
   "metadata": {},
   "outputs": [],
   "source": []
  },
  {
   "cell_type": "code",
   "execution_count": null,
   "metadata": {},
   "outputs": [],
   "source": []
  }
 ],
 "metadata": {
  "kernelspec": {
   "display_name": "Python 3",
   "language": "python",
   "name": "python3"
  },
  "language_info": {
   "codemirror_mode": {
    "name": "ipython",
    "version": 3
   },
   "file_extension": ".py",
   "mimetype": "text/x-python",
   "name": "python",
   "nbconvert_exporter": "python",
   "pygments_lexer": "ipython3",
   "version": "3.7.3"
  }
 },
 "nbformat": 4,
 "nbformat_minor": 2
}
