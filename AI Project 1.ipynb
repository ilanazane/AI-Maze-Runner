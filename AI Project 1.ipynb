{
 "cells": [
  {
   "cell_type": "code",
   "execution_count": 1006,
   "metadata": {},
   "outputs": [],
   "source": [
    "import numpy as np\n",
    "import matplotlib.pyplot as plt\n",
    "import random\n",
    "import queue\n",
    "import time\n",
    "from IPython.display import clear_output"
   ]
  },
  {
   "cell_type": "code",
   "execution_count": 1120,
   "metadata": {},
   "outputs": [],
   "source": [
    "#Functions that will be very useful for creating/updating mazes\n",
    "\n",
    "'''\n",
    "Define the grid to be working with\n",
    "\n",
    "            **inputs**\n",
    "\n",
    "-dim = dimension size of the grid \n",
    "-p = probability that a grid spot will be filled or open\n",
    "\n",
    "            **returns**\n",
    "            \n",
    "-a = the grid to be worked with\n",
    "'''\n",
    "\n",
    "def grid(dim, p):\n",
    "    #start with a dim by dim zero array\n",
    "    a = np.zeros((dim,dim))\n",
    "    for item in range(dim):\n",
    "        for thing in range(dim):\n",
    "            #makes sure the top left spot is empty\n",
    "            if item == 0 and thing == 0:\n",
    "                pass\n",
    "            #makes sure the bottom right spot is empty\n",
    "            elif item == dim - 1 and thing == dim - 1:\n",
    "                pass\n",
    "            #change the cells based off of the value of p and our random number\n",
    "            else:\n",
    "                x = random.random()\n",
    "                #if our random number is less than p, then the cell will not be filled\n",
    "                if p < x:\n",
    "                    a[item][thing] = 0\n",
    "                #if our random number is greater than p, then the cell will  be filled\n",
    "                else:\n",
    "                    a[item][thing] = 1\n",
    "    #return the grid to be worked with\n",
    "    return a\n",
    "\n",
    "\n",
    "'''\n",
    "update the state of the maze after moving to the next tile\n",
    "\n",
    "            **inputs**\n",
    "\n",
    "-maze = the maze to be updated\n",
    "-i = which row to update\n",
    "-j = which column to update\n",
    "'''\n",
    "\n",
    "def update(maze, i, j):\n",
    "    #shades the tile grey to distinguish between open and occupied\n",
    "    maze[i][j] = 0.5\n",
    "    \n",
    "\n",
    "'''\n",
    "Euclidean Heuristic \n",
    "\n",
    "            **inputs**\n",
    "\n",
    "-maze = the maze being worked with\n",
    "-i = the current row to use in calculation\n",
    "-j = the current column to use in calculation\n",
    "\n",
    "            **returns**\n",
    "            \n",
    "-distance = the Euclidean distance\n",
    "'''\n",
    "    \n",
    "def Euclidean(maze, i, j):\n",
    "    distance = round(np.sqrt(pow(len(maze)-1 - i, 2) + pow(len(maze[0])-1 - j, 2)), 2)\n",
    "    return distance\n",
    "\n",
    "'''\n",
    "Manhattan Heuristic\n",
    "\n",
    "            **inputs**\n",
    "\n",
    "-maze = the maze being worked with\n",
    "-i = the current row to use in calculation\n",
    "-j = the current column to use in calculation\n",
    "\n",
    "            **returns**\n",
    "            \n",
    "-distance = the Manhattan distance\n",
    "'''\n",
    "\n",
    "def Manhattan(maze, i, j):\n",
    "    distance = abs(len(maze)-1 - i) + abs(len(maze[0])-1 - j)\n",
    "    return distance\n"
   ]
  },
  {
   "cell_type": "code",
   "execution_count": 1205,
   "metadata": {},
   "outputs": [],
   "source": [
    "#BFS Search Algorithm\n",
    "\n",
    "def BFS(maze, video):\n",
    "    #initialize the solved state of the maze to be false and our pointers to be at the beginning\n",
    "    #i controls row and j controls column\n",
    "    maze_final = np.copy(maze)\n",
    "    solved = False\n",
    "    i, j = 0, 0\n",
    "    prev = {}\n",
    "    \n",
    "    #initialize the fringe and store the starting point of the maze\n",
    "    fringe = queue.Queue()\n",
    "    fringe.put([i, j])\n",
    "    \n",
    "    #plot the initial maze if video = True\n",
    "    if video == True:\n",
    "        plt.imshow(maze, cmap=plt.cm.binary)\n",
    "        plt.pause(0.05)\n",
    "    \n",
    "    #runs until we reach the end\n",
    "    while solved == False:\n",
    "        '''\n",
    "        #*****this is just for debugging*****\n",
    "        \n",
    "        #print out the length of the current fringe\n",
    "        print(queue.Queue.qsize(fringe))\n",
    "            \n",
    "        #looks at the queue\n",
    "        for q_item in fringe.queue:\n",
    "            print(q_item)\n",
    "        '''\n",
    "        \n",
    "        #Is the maze unsolvable?\n",
    "        if queue.Queue.qsize(fringe) == 0:\n",
    "            #update the state of the maze, display the end result, and break the loop\n",
    "            update(maze, i , j)\n",
    "            if video == True:\n",
    "                plt.imshow(maze, cmap=plt.cm.binary)\n",
    "                plt.pause(0.05)\n",
    "            #print(\"UNSOLVABLE\")\n",
    "            #value to be returned for later analysis\n",
    "            solved = 0\n",
    "            solution_length = 0\n",
    "            break\n",
    "            \n",
    "        #gets the current node and update i and j\n",
    "        current = fringe.get()\n",
    "        i, j = current[0], current[1]\n",
    "        \n",
    "        #check if we have reached a solution, display the end result, and break the loop\n",
    "        if i + 1 == len(maze) and j + 1 == len(maze[i]):\n",
    "            update(maze, i , j)\n",
    "            if video == True:\n",
    "                plt.imshow(maze, cmap=plt.cm.binary)\n",
    "                plt.pause(0.05)\n",
    "            #print(\"SOLUTION FOUND\")\n",
    "            #value to be returned for later analysis\n",
    "            solved = 1\n",
    "            \n",
    "            solution_length = 0\n",
    "            \n",
    "            update(maze_final, i, j)\n",
    "            if video == True:\n",
    "                plt.imshow(maze, cmap=plt.cm.binary)\n",
    "                plt.pause(0.05)\n",
    "            \n",
    "            while i != 0 or j!= 0:\n",
    "                x = prev[i,j]\n",
    "                i, j = x[0], x[1]\n",
    "                update(maze_final, i, j)\n",
    "                if video == True:\n",
    "                    plt.imshow(maze_final, cmap=plt.cm.binary)\n",
    "                    plt.pause(0.05)\n",
    "                solution_length += 1\n",
    "            \n",
    "            update(maze_final, 0, 0)\n",
    "            if video == True:\n",
    "                plt.imshow(maze_final, cmap=plt.cm.binary)\n",
    "                plt.pause(0.05)\n",
    "            \n",
    "            break\n",
    "        \n",
    "        #check down position\n",
    "        \n",
    "        #are we outside?\n",
    "        if i + 1 >= len(maze):\n",
    "            pass\n",
    "        else:\n",
    "            #is the next position occupied or previously visited?\n",
    "            if maze[i + 1][j] == 1 or maze[i + 1][j] == 0.5:\n",
    "                pass\n",
    "            else:\n",
    "                #add to fringe if valid and is not already in fringe\n",
    "                if [i + 1, j] in fringe.queue:\n",
    "                    pass\n",
    "                else:\n",
    "                    prev[(i + 1, j)] = (i, j)\n",
    "                    fringe.put([i + 1, j])\n",
    "\n",
    "        #check right position\n",
    "        \n",
    "        #are we outside?\n",
    "        if j + 1 >= len(maze[i]):\n",
    "            pass\n",
    "        else:\n",
    "            #is the next position occupied or previously visited?\n",
    "            if maze[i][j + 1] == 1 or maze[i][j + 1] == 0.5:\n",
    "                pass\n",
    "            else:\n",
    "                #add to fringe if valid and is not already in fringe\n",
    "                if [i, j + 1] in fringe.queue:\n",
    "                    pass\n",
    "                else:\n",
    "                    prev[(i, j + 1)] = (i, j)\n",
    "                    fringe.put([i, j + 1])\n",
    "        \n",
    "        #check up solution\n",
    "        \n",
    "        #are we outside?\n",
    "        if i - 1 < 0:\n",
    "            pass\n",
    "        else:\n",
    "            #is the next position occupied or previously visited?\n",
    "            if maze[i - 1][j] == 1 or maze[i - 1][j] == 0.5:\n",
    "                pass\n",
    "            else:\n",
    "                #add to fringe if valid and is not already in fringe\n",
    "                if [i - 1, j] in fringe.queue:\n",
    "                    pass\n",
    "                else:\n",
    "                    prev[(i - 1, j)] = (i, j)\n",
    "                    fringe.put([i - 1, j])\n",
    "        \n",
    "        #check left solution\n",
    "        \n",
    "        #are we outside?\n",
    "        if j - 1 < 0:\n",
    "            pass\n",
    "        else:\n",
    "            #is the next position occupied or previously visited?\n",
    "            if maze[i][j - 1] == 1 or maze[i][j - 1] == 0.5:\n",
    "                pass\n",
    "            else:\n",
    "                #add to fringe if valid and is not already in fringe\n",
    "                if [i, j - 1] in fringe.queue:\n",
    "                    pass\n",
    "                else:\n",
    "                    prev[(i, j - 1)] = (i, j)\n",
    "                    fringe.put([i, j - 1])\n",
    "        \n",
    "        \n",
    "        #after done checking, update the maze and start over\n",
    "        update(maze, i, j)\n",
    "    \n",
    "        if video == True:\n",
    "            plt.imshow(maze, cmap=plt.cm.binary)\n",
    "            plt.pause(0.05)\n",
    "    #if video == True: \n",
    "    \n",
    "    #plt.figure(figsize=(15,15))\n",
    "    #plt.title(\"BFS\", fontsize = 40)\n",
    "    #plt.imshow(maze_final, cmap=plt.cm.binary)\n",
    "    #plt.show()\n",
    "                 \n",
    "    return solved, solution_length"
   ]
  },
  {
   "cell_type": "code",
   "execution_count": 1040,
   "metadata": {},
   "outputs": [],
   "source": [
    "x, y = BFS(grid(100, 0.3), video = False)"
   ]
  },
  {
   "cell_type": "code",
   "execution_count": 1042,
   "metadata": {},
   "outputs": [
    {
     "name": "stdout",
     "output_type": "stream",
     "text": [
      "346 200\n"
     ]
    }
   ],
   "source": [
    "print(x, y)"
   ]
  },
  {
   "cell_type": "code",
   "execution_count": 1159,
   "metadata": {},
   "outputs": [
    {
     "name": "stdout",
     "output_type": "stream",
     "text": [
      "0.0\n",
      "0.05\n",
      "0.1\n",
      "0.15000000000000002\n",
      "0.2\n",
      "0.25\n",
      "0.30000000000000004\n",
      "0.35000000000000003\n",
      "0.4\n",
      "0.45\n",
      "0.5\n"
     ]
    },
    {
     "data": {
      "image/png": "[encoded data removed]",
      "text/plain": [
       "<Figure size 432x288 with 1 Axes>"
      ]
     },
     "metadata": {
      "needs_background": "light"
     },
     "output_type": "display_data"
    },
    {
     "name": "stdout",
     "output_type": "stream",
     "text": [
      "Time took: 14.45252513885498\n"
     ]
    }
   ],
   "source": [
    "prob = np.linspace(0,0.5,11)\n",
    "lenAstarM=[]\n",
    "Listtemp=[]\n",
    "start_time = time.time()\n",
    "for item in prob:\n",
    "    for x in range(0,100):\n",
    "        temp = AstarM(grid(100, item), video=False)\n",
    "        if temp[0] == 0:\n",
    "            pass\n",
    "        else:\n",
    "            Listtemp.append(temp[1])\n",
    "    if len(Listtemp) == 0:\n",
    "        lenAstarM.append(0)\n",
    "    else:\n",
    "        lenAstarM.append(sum(Listtemp)/len(Listtemp))\n",
    "    print(item)\n",
    "    Listtemp=[]\n",
    "\n",
    "fig = plt.figure()\n",
    "ax = fig.add_subplot(1,1,1)\n",
    "\n",
    "plt.xlabel('Density',fontsize=20)\n",
    "plt.ylabel('Path Length',fontsize=20)\n",
    "plt.title(\"Path Length vs. Density\\n\", fontsize = 20)\n",
    "plt.plot(prob, lenAstarM,linewidth=1.5)\n",
    "plt.show()\n",
    "print(\"Time took:\", (time.time() - start_time))"
   ]
  },
  {
   "cell_type": "code",
   "execution_count": 1161,
   "metadata": {},
   "outputs": [
    {
     "data": {
      "image/png": "[encoded data removed]",
      "text/plain": [
       "<Figure size 432x288 with 1 Axes>"
      ]
     },
     "metadata": {
      "needs_background": "light"
     },
     "output_type": "display_data"
    }
   ],
   "source": [
    "plt.xlabel('Probability',fontsize=20)\n",
    "plt.ylabel('Solvability',fontsize=20)\n",
    "plt.title(\"Solvability vs. Probability\\n\", fontsize = 20)\n",
    "plt.plot(prob, lenAstarM, label = 'A*M')\n",
    "plt.plot(prob, lenAstarE, label = 'A*E')\n",
    "plt.legend(loc='upper right')\n",
    "plt.show()"
   ]
  },
  {
   "cell_type": "code",
   "execution_count": null,
   "metadata": {},
   "outputs": [],
   "source": []
  },
  {
   "cell_type": "code",
   "execution_count": 1154,
   "metadata": {},
   "outputs": [
    {
     "data": {
      "image/png": "[encoded data removed]",
      "text/plain": [
       "<Figure size 432x288 with 1 Axes>"
      ]
     },
     "metadata": {
      "needs_background": "light"
     },
     "output_type": "display_data"
    }
   ],
   "source": [
    "plt.xlabel('Probability',fontsize=20)\n",
    "plt.ylabel('Solvability',fontsize=20)\n",
    "plt.title(\"Solvability vs. Probability\\n\", fontsize = 20)\n",
    "plt.plot(prob, solvAstarM, label = 'A*M')\n",
    "plt.plot(prob, solvAstarE, label = 'A*E')\n",
    "plt.plot(prob, solvBiBFS, label = 'BiBFS')\n",
    "plt.plot(prob, solvBFS, label = 'BFS')\n",
    "plt.plot(prob, solvDFS, label = 'DFS')\n",
    "plt.legend(loc='upper right')\n",
    "plt.show()\n"
   ]
  },
  {
   "cell_type": "code",
   "execution_count": null,
   "metadata": {},
   "outputs": [],
   "source": []
  },
  {
   "cell_type": "code",
   "execution_count": 1045,
   "metadata": {},
   "outputs": [],
   "source": [
    "#DFS Search Algorithm\n",
    "\n",
    "def DFS(maze, video):\n",
    "    #initialize the solved state of the maze to be false and our pointers to be at the beginning\n",
    "    #i controls row and j controls column\n",
    "    maze_final = np.copy(maze)\n",
    "    solved = False\n",
    "    i, j = 0, 0\n",
    "    prev = {}\n",
    "    \n",
    "    #initialize the fringe and store the starting point of the maze\n",
    "    fringe = []\n",
    "    fringe.append([i, j])\n",
    "    \n",
    "    #runs until we reach the end\n",
    "    while solved == False:\n",
    "        '''\n",
    "        #*****this is just for debugging*****\n",
    "        \n",
    "        #print out the length of the current fringe\n",
    "        print(queue.Queue.qsize(fringe))\n",
    "            \n",
    "        #looks at the queue\n",
    "        for q_item in fringe.queue:\n",
    "            print(q_item)\n",
    "        '''\n",
    "        \n",
    "        #Is the maze unsolvable?\n",
    "        if len(fringe) == 0:\n",
    "            #update the state of the maze, display the end result, and break the loop\n",
    "            update(maze, i , j)\n",
    "            if video == True:\n",
    "                plt.imshow(maze, cmap=plt.cm.binary)\n",
    "                plt.show()\n",
    "            #print(\"UNSOLVABLE\")\n",
    "            #value to be returned for later analysis\n",
    "            solved = 0\n",
    "            solution_length = 0\n",
    "            break\n",
    "            \n",
    "        #gets the current node and update i and j\n",
    "        current = fringe.pop()\n",
    "        i, j = current[0], current[1]\n",
    "        \n",
    "        #check if we have reached a solution, display the end result, and break the loop\n",
    "        if i + 1 == len(maze) and j + 1 == len(maze[i]):\n",
    "            update(maze, i , j)\n",
    "            if video == True:\n",
    "                plt.imshow(maze, cmap=plt.cm.binary)\n",
    "                plt.pause(0.05)\n",
    "            #print(\"SOLUTION FOUND\")\n",
    "            #value to be returned for later analysis\n",
    "            solved = 1\n",
    "            \n",
    "            solution_length = 0\n",
    "            \n",
    "            update(maze_final, i, j)\n",
    "            if video == True:\n",
    "                plt.imshow(maze, cmap=plt.cm.binary)\n",
    "                plt.pause(0.05)\n",
    "            \n",
    "            while i != 0 or j!= 0:\n",
    "                x = prev[i,j]\n",
    "                i, j = x[0], x[1]\n",
    "                update(maze_final, i, j)\n",
    "                if video == True:\n",
    "                    plt.imshow(maze_final, cmap=plt.cm.binary)\n",
    "                    plt.pause(0.05)\n",
    "                solution_length += 1\n",
    "            \n",
    "            update(maze_final, 0, 0)\n",
    "            if video == True:\n",
    "                plt.imshow(maze_final, cmap=plt.cm.binary)\n",
    "                plt.pause(0.05)\n",
    "            \n",
    "            break\n",
    "            \n",
    "        #check left solution\n",
    "        \n",
    "        #are we outside?\n",
    "        if j - 1 < 0:\n",
    "            pass\n",
    "        else:\n",
    "            #is the next position occupied or previously visited?\n",
    "            if maze[i][j - 1] == 1 or maze[i][j - 1] == 0.5:\n",
    "                pass\n",
    "            else:\n",
    "                #add to fringe if valid and is not already in fringe\n",
    "                if [i, j - 1] in fringe:\n",
    "                    pass\n",
    "                else:\n",
    "                    prev[(i, j - 1)] = (i, j)\n",
    "                    fringe.append([i, j - 1])\n",
    "                    \n",
    "        #check up solution\n",
    "        \n",
    "        #are we outside?\n",
    "        if i - 1 < 0:\n",
    "            pass\n",
    "        else:\n",
    "            #is the next position occupied or previously visited?\n",
    "            if maze[i - 1][j] == 1 or maze[i - 1][j] == 0.5:\n",
    "                pass\n",
    "            else:\n",
    "                #add to fringe if valid and is not already in fringe\n",
    "                if [i - 1, j] in fringe:\n",
    "                    pass\n",
    "                else:\n",
    "                    prev[(i - 1, j)] = (i, j)\n",
    "                    fringe.append([i - 1, j])\n",
    "                    \n",
    "        #check right position\n",
    "        \n",
    "        #are we outside?\n",
    "        if j + 1 >= len(maze[i]):\n",
    "            pass\n",
    "        else:\n",
    "            #is the next position occupied or previously visited?\n",
    "            if maze[i][j + 1] == 1 or maze[i][j + 1] == 0.5:\n",
    "                pass\n",
    "            else:\n",
    "                #add to fringe if valid and is not already in fringe\n",
    "                if [i, j + 1] in fringe:\n",
    "                    pass\n",
    "                else:\n",
    "                    prev[(i, j + 1)] = (i, j)\n",
    "                    fringe.append([i, j + 1])\n",
    "        \n",
    "        #check down position\n",
    "        \n",
    "        #are we outside?\n",
    "        if i + 1 >= len(maze):\n",
    "            pass\n",
    "        else:\n",
    "            #is the next position occupied or previously visited?\n",
    "            if maze[i + 1][j] == 1 or maze[i + 1][j] == 0.5:\n",
    "                pass\n",
    "            else:\n",
    "                #add to fringe if valid and is not already in fringe\n",
    "                if [i + 1, j] in fringe:\n",
    "                    pass\n",
    "                else:\n",
    "                    prev[(i + 1, j)] = (i, j)\n",
    "                    fringe.append([i + 1, j])        \n",
    "        \n",
    "        \n",
    "        \n",
    "        #after done checking, update the maze and start over\n",
    "        update(maze, i, j)\n",
    "        \n",
    "        if video == True:\n",
    "            plt.imshow(maze, cmap=plt.cm.binary)\n",
    "            plt.pause(0.05)\n",
    "\n",
    "    if video == True:\n",
    "        plt.show()\n",
    "        \n",
    "    return solved, solution_length"
   ]
  },
  {
   "cell_type": "code",
   "execution_count": 910,
   "metadata": {},
   "outputs": [
    {
     "name": "stdout",
     "output_type": "stream",
     "text": [
      "SOLUTION FOUND\n"
     ]
    }
   ],
   "source": [
    "x, y = DFS(grid(100, 0.3), video = False)"
   ]
  },
  {
   "cell_type": "code",
   "execution_count": 911,
   "metadata": {},
   "outputs": [
    {
     "name": "stdout",
     "output_type": "stream",
     "text": [
      "1 270\n"
     ]
    }
   ],
   "source": [
    "print(x, y)"
   ]
  },
  {
   "cell_type": "code",
   "execution_count": 1133,
   "metadata": {},
   "outputs": [],
   "source": [
    "#A* Euclidean Distance\n",
    "\n",
    "def AstarE(maze, video):\n",
    "    #initialize the solved state of the maze to be false and our pointers to be at the beginning\n",
    "    #i controls row and j controls column\n",
    "    maze_final = np.copy(maze)\n",
    "    solved = False\n",
    "    i, j = 0, 0\n",
    "    prev = {}\n",
    "    counter = 0\n",
    "    \n",
    "    #initialize the fringe and store the starting point of the maze\n",
    "    fringe = []\n",
    "    fringe.append([i, j, counter + Euclidean(maze, i, j)])\n",
    "    \n",
    "    #runs until we reach the end\n",
    "    while solved == False:\n",
    "        '''\n",
    "        #*****this is just for debugging*****\n",
    "        \n",
    "        #print out the length of the current fringe\n",
    "        print(queue.Queue.qsize(fringe))\n",
    "            \n",
    "        #looks at the queue\n",
    "        for q_item in fringe.queue:\n",
    "            print(q_item)\n",
    "        '''\n",
    "        #Is the maze unsolvable?\n",
    "        if len(fringe) == 0:\n",
    "            #update the state of the maze, display the end result, and break the loop\n",
    "            update(maze, i , j)\n",
    "            if video == True:\n",
    "                plt.imshow(maze, cmap=plt.cm.binary)\n",
    "                plt.show()\n",
    "            #print(\"UNSOLVABLE\")\n",
    "            #value to be returned for later analysis\n",
    "            solved = 0\n",
    "            solution_length = 0\n",
    "            break\n",
    "            \n",
    "        #gets the current node and update i and j\n",
    "        current = fringe.pop()\n",
    "        i, j = current[0], current[1]\n",
    "        \n",
    "        #check if we have reached a solution, display the end result, and break the loop\n",
    "        if i + 1 == len(maze) and j + 1 == len(maze[i]):\n",
    "            update(maze, i , j)\n",
    "            if video == True:\n",
    "                plt.imshow(maze, cmap=plt.cm.binary)\n",
    "                plt.pause(0.05)\n",
    "            #print(\"SOLUTION FOUND\")\n",
    "            #value to be returned for later analysis\n",
    "            solved = 1\n",
    "            \n",
    "            solution_length = 0\n",
    "            \n",
    "            update(maze_final, i, j)\n",
    "            if video == True:\n",
    "                plt.imshow(maze, cmap=plt.cm.binary)\n",
    "                plt.pause(0.05)\n",
    "            \n",
    "            while i != 0 or j!= 0:\n",
    "                x = prev[i,j]\n",
    "                i, j = x[0], x[1]\n",
    "                update(maze_final, i, j)\n",
    "                if video == True:\n",
    "                    plt.imshow(maze_final, cmap=plt.cm.binary)\n",
    "                    plt.pause(0.05)\n",
    "                solution_length += 1\n",
    "            \n",
    "            update(maze_final, 0, 0)\n",
    "            \n",
    "            if video == True:\n",
    "                plt.imshow(maze_final, cmap=plt.cm.binary)\n",
    "                plt.pause(0.05)\n",
    "                \n",
    "            break\n",
    "       \n",
    "        #check left solution\n",
    "        \n",
    "        #are we outside?\n",
    "        if j - 1 < 0:\n",
    "            pass\n",
    "        else:\n",
    "            #is the next position occupied or previously visited?\n",
    "            if maze[i][j - 1] == 1 or maze[i][j - 1] == 0.5:\n",
    "                #If so, move on\n",
    "                pass\n",
    "            else:\n",
    "                #check if already in fringe\n",
    "                if (i, j - 1, counter + Euclidean(maze, i, j - 1)) in fringe:\n",
    "                    pass\n",
    "                else:\n",
    "                    #if the fringe was empty (i.e. the first move), just add the first child to fringe\n",
    "                    if len(fringe) == 0: \n",
    "                        prev[(i, j - 1)] = (i, j)\n",
    "                        fringe.append((i, j - 1, counter + Euclidean(maze, i, j - 1)))\n",
    "                    #if the fringe is not empty, check the f(n) value and compare with items in fringe\n",
    "                    else:\n",
    "                        for x in range(len(fringe)-1,-1,-1): \n",
    "                            if counter + Euclidean(maze, i, j - 1) > fringe[x][2]:\n",
    "                                if x == 0:\n",
    "                                    fringe.insert(x, (i, j - 1, counter + Euclidean(maze, i, j - 1)))\n",
    "                                    prev[(i, j - 1)] = (i, j)\n",
    "                                else: \n",
    "                                    pass\n",
    "                            else: \n",
    "                                fringe.insert(x + 1, (i, j - 1, counter + Euclidean(maze, i, j - 1)))\n",
    "                                prev[(i, j - 1)] = (i, j)\n",
    "                                break\n",
    "                                \n",
    "                                \n",
    "        #check up solution\n",
    "        \n",
    "        #are we outside?\n",
    "        if i - 1 < 0:\n",
    "            pass\n",
    "        else:\n",
    "            #is the next position occupied or previously visited?\n",
    "            if maze[i - 1][j] == 1 or maze[i - 1][j] == 0.5:\n",
    "                pass\n",
    "            else:\n",
    "                #check if already in fringe\n",
    "                if (i - 1, j, counter + Euclidean(maze, i - 1, j)) in fringe:\n",
    "                    pass\n",
    "                else:\n",
    "                    #if the fringe was empty (i.e. the first move), just add the first child to fringe\n",
    "                    if len(fringe) == 0: \n",
    "                        prev[(i - 1, j)] = (i, j)\n",
    "                        fringe.append((i - 1, j, counter + Euclidean(maze, i - 1, j)))\n",
    "                    #if the fringe is not empty, check the f(n) value and compare with items in fringe\n",
    "                    else:\n",
    "                        for x in range(len(fringe)-1,-1,-1): \n",
    "                            if counter + Euclidean(maze, i - 1, j) > fringe[x][2]:\n",
    "                                if x == 0:\n",
    "                                    fringe.insert(x, (i - 1, j, counter + Euclidean(maze, i - 1, j)))\n",
    "                                    prev[(i - 1, j)] = (i, j)\n",
    "                                else: \n",
    "                                    pass\n",
    "                            else: \n",
    "                                fringe.insert(x + 1, (i - 1, j, counter + Euclidean(maze, i - 1, j)))\n",
    "                                prev[(i - 1, j)] = (i, j)\n",
    "                                break\n",
    "        #check right position\n",
    "        \n",
    "        #are we outside?\n",
    "        if j + 1 >= len(maze[i]):\n",
    "            pass\n",
    "        else:\n",
    "            #is the next position occupied or previously visited?\n",
    "            if maze[i][j + 1] == 1 or maze[i][j + 1] == 0.5:\n",
    "                pass\n",
    "            else:\n",
    "                #check if already in fringe\n",
    "                if (i, j + 1, counter + Euclidean(maze, i, j + 1)) in fringe:\n",
    "                    pass\n",
    "                else:\n",
    "                    #if the fringe was empty (i.e. the first move), just add the first child to fringe\n",
    "                    if len(fringe) == 0: \n",
    "                        prev[(i, j + 1)] = (i, j)\n",
    "                        fringe.append((i, j + 1, counter + Euclidean(maze, i, j + 1)))\n",
    "                    #if the fringe is not empty, check the f(n) value and compare with items in fringe\n",
    "                    else:\n",
    "                        for x in range(len(fringe)-1,-1,-1): \n",
    "                            if counter + Euclidean(maze, i, j + 1) > fringe[x][2]:\n",
    "                                if x == 0:\n",
    "                                    fringe.insert(x, (i, j + 1, counter + Euclidean(maze, i, j + 1)))\n",
    "                                    prev[(i, j + 1)] = (i, j)\n",
    "                                else: \n",
    "                                    pass\n",
    "                            else: \n",
    "                                fringe.insert(x + 1, (i, j + 1, counter + Euclidean(maze, i, j + 1)))\n",
    "                                prev[(i, j + 1)] = (i, j)\n",
    "                                break\n",
    "        \n",
    "        #check down position\n",
    "        \n",
    "        #are we outside?\n",
    "        if i + 1 >= len(maze):\n",
    "            pass\n",
    "        else:\n",
    "            #is the next position occupied or previously visited?\n",
    "            if maze[i + 1][j] == 1 or maze[i + 1][j] == 0.5:\n",
    "                pass\n",
    "            else:\n",
    "                #check if already in fringe\n",
    "                if (i + 1, j, counter + Euclidean(maze, i + 1, j)) in fringe:\n",
    "                    pass\n",
    "                else:\n",
    "                    #if the fringe was empty (i.e. the first move), just add the first child to fringe\n",
    "                    if len(fringe) == 0: \n",
    "                        prev[(i + 1, j)] = (i, j)\n",
    "                        fringe.append((i + 1, j, counter + Euclidean(maze, i + 1, j)))\n",
    "                    #if the fringe is not empty, check the f(n) value and compare with items in fringe\n",
    "                    else:\n",
    "                        for x in range(len(fringe)-1,-1,-1): \n",
    "                            if counter + Euclidean(maze, i + 1, j) > fringe[x][2]:\n",
    "                                if x == 0:\n",
    "                                    fringe.insert(x, (i + 1, j, counter + Euclidean(maze, i + 1, j)))\n",
    "                                    prev[(i + 1, j)] = (i, j)\n",
    "                                else: \n",
    "                                    pass\n",
    "                            else: \n",
    "                                fringe.insert(x + 1, (i + 1, j, counter + Euclidean(maze, i + 1, j)))\n",
    "                                prev[(i + 1, j)] = (i, j)\n",
    "                                break        \n",
    "        \n",
    "        \n",
    "        \n",
    "        #after done checking, update the maze and start over\n",
    "        update(maze, i, j)\n",
    "        \n",
    "        if video == True:\n",
    "            plt.imshow(maze, cmap=plt.cm.binary)\n",
    "            plt.pause(0.05)\n",
    "    if video == True:\n",
    "        plt.show()\n",
    "        \n",
    "    return solved, solution_length"
   ]
  },
  {
   "cell_type": "code",
   "execution_count": 1134,
   "metadata": {},
   "outputs": [],
   "source": [
    "x, y = AstarE(grid(10, 0.3), video = False)"
   ]
  },
  {
   "cell_type": "code",
   "execution_count": 944,
   "metadata": {},
   "outputs": [
    {
     "name": "stdout",
     "output_type": "stream",
     "text": [
      "1 234\n"
     ]
    }
   ],
   "source": [
    "print(x,y)"
   ]
  },
  {
   "cell_type": "code",
   "execution_count": 1135,
   "metadata": {},
   "outputs": [],
   "source": [
    "#A* Manhattan Distance\n",
    "\n",
    "def AstarM(maze, video):\n",
    "    #initialize the solved state of the maze to be false and our pointers to be at the beginning\n",
    "    #i controls row and j controls column\n",
    "    maze_final = np.copy(maze)\n",
    "    solved = False\n",
    "    i, j = 0, 0\n",
    "    prev = {}\n",
    "    counter = 0\n",
    "    \n",
    "    #initialize the fringe and store the starting point of the maze\n",
    "    fringe = []\n",
    "    fringe.append([i, j, counter + Manhattan(maze, i, j)])\n",
    "    \n",
    "    \n",
    "    #runs until we reach the end\n",
    "    while solved == False:\n",
    "        '''\n",
    "        #*****this is just for debugging*****\n",
    "        \n",
    "        #print out the length of the current fringe\n",
    "        print(queue.Queue.qsize(fringe))\n",
    "            \n",
    "        #looks at the queue\n",
    "        for q_item in fringe.queue:\n",
    "            print(q_item)\n",
    "        '''\n",
    "        \n",
    "        #Is the maze unsolvable?\n",
    "        if len(fringe) == 0:\n",
    "            #update the state of the maze, display the end result, and break the loop\n",
    "            update(maze, i , j)\n",
    "            if video == True:\n",
    "                plt.imshow(maze, cmap=plt.cm.binary)\n",
    "                plt.show()\n",
    "            #print(\"UNSOLVABLE\")\n",
    "            #value to be returned for later analysis\n",
    "            solved = 0\n",
    "            solution_length = 0\n",
    "            break\n",
    "            \n",
    "        #gets the current node and update i and j\n",
    "        current = fringe.pop()\n",
    "        i, j = current[0], current[1]\n",
    "        \n",
    "        #check if we have reached a solution, display the end result, and break the loop\n",
    "        if i + 1 == len(maze) and j + 1 == len(maze[i]):\n",
    "            update(maze, i , j)\n",
    "            if video == True:\n",
    "                plt.imshow(maze, cmap=plt.cm.binary)\n",
    "                plt.pause(0.05)\n",
    "            #print(\"SOLUTION FOUND\")\n",
    "            #value to be returned for later analysis\n",
    "            solved = 1\n",
    "            \n",
    "            solution_length = 0\n",
    "            \n",
    "            update(maze_final, i, j)\n",
    "            if video == True:\n",
    "                plt.imshow(maze, cmap=plt.cm.binary)\n",
    "                plt.pause(0.05)\n",
    "            \n",
    "            while i != 0 or j!= 0:\n",
    "                x = prev[i,j]\n",
    "                i, j = x[0], x[1]\n",
    "                update(maze_final, i, j)\n",
    "                if video == True:\n",
    "                    plt.imshow(maze_final, cmap=plt.cm.binary)\n",
    "                    plt.pause(0.05)\n",
    "                solution_length += 1\n",
    "            \n",
    "            update(maze_final, 0, 0)\n",
    "            if video == True:\n",
    "                plt.imshow(maze_final, cmap=plt.cm.binary)\n",
    "                plt.pause(0.05)\n",
    "                \n",
    "            break\n",
    "       \n",
    "        #check left solution\n",
    "        \n",
    "        #are we outside?\n",
    "        if j - 1 < 0:\n",
    "            pass\n",
    "        else:\n",
    "            #is the next position occupied or previously visited?\n",
    "            if maze[i][j - 1] == 1 or maze[i][j - 1] == 0.5:\n",
    "                #If so, move on\n",
    "                pass\n",
    "            else:\n",
    "                #check if already in fringe\n",
    "                if (i, j - 1, counter + Manhattan(maze, i, j - 1)) in fringe:\n",
    "                    pass\n",
    "                else:\n",
    "                    #if the fringe was empty (i.e. the first move), just add the first child to fringe\n",
    "                    if len(fringe) == 0: \n",
    "                        prev[(i, j - 1)] = (i, j)\n",
    "                        fringe.append((i, j - 1, counter + Manhattan(maze, i, j - 1)))\n",
    "                    #if the fringe is not empty, check the f(n) value and compare with items in fringe\n",
    "                    else:\n",
    "                        for x in range(len(fringe)-1,-1,-1): \n",
    "                            if counter + Manhattan(maze, i, j - 1) > fringe[x][2]:\n",
    "                                if x == 0:\n",
    "                                    fringe.insert(0, (i, j - 1, counter + Manhattan(maze, i, j - 1)))\n",
    "                                    prev[(i, j - 1)] = (i, j)\n",
    "                                else:\n",
    "                                    pass\n",
    "                            else: \n",
    "                                fringe.insert(x + 1, (i, j - 1, counter + Manhattan(maze, i, j - 1)))\n",
    "                                prev[(i, j - 1)] = (i, j)\n",
    "                                break\n",
    "                                \n",
    "        #check up solution\n",
    "        \n",
    "        #are we outside?\n",
    "        if i - 1 < 0:\n",
    "            pass\n",
    "        else:\n",
    "            #is the next position occupied or previously visited?\n",
    "            if maze[i - 1][j] == 1 or maze[i - 1][j] == 0.5:\n",
    "                pass\n",
    "            else:\n",
    "                #check if already in fringe\n",
    "                if (i - 1, j, counter + Manhattan(maze, i - 1, j)) in fringe:\n",
    "                    pass\n",
    "                else:\n",
    "                    #if the fringe was empty (i.e. the first move), just add the first child to fringe\n",
    "                    if len(fringe) == 0: \n",
    "                        prev[(i - 1, j)] = (i, j)\n",
    "                        fringe.append((i - 1, j, counter + Manhattan(maze, i - 1, j)))\n",
    "                    #if the fringe is not empty, check the f(n) value and compare with items in fringe\n",
    "                    else:\n",
    "                        for x in range(len(fringe)-1,-1,-1): \n",
    "                            if counter + Manhattan(maze, i - 1, j) > fringe[x][2]:\n",
    "                                if x == 0:\n",
    "                                    fringe.insert(0, (i - 1, j, counter + Manhattan(maze, i - 1, j)))\n",
    "                                    prev[(i - 1, j)] = (i, j)\n",
    "                                else: \n",
    "                                    pass\n",
    "                            else: \n",
    "                                fringe.insert(x + 1, (i - 1, j, counter + Manhattan(maze, i - 1, j)))\n",
    "                                prev[(i - 1, j)] = (i, j)\n",
    "                                break\n",
    "        #check right position\n",
    "        \n",
    "        #are we outside?\n",
    "        if j + 1 >= len(maze[i]):\n",
    "            pass\n",
    "        else:\n",
    "            #is the next position occupied or previously visited?\n",
    "            if maze[i][j + 1] == 1 or maze[i][j + 1] == 0.5:\n",
    "                pass\n",
    "            else:\n",
    "                #check if already in fringe\n",
    "                if (i, j + 1, counter + Manhattan(maze, i, j + 1)) in fringe:\n",
    "                    pass\n",
    "                else:\n",
    "                    #if the fringe was empty (i.e. the first move), just add the first child to fringe\n",
    "                    if len(fringe) == 0: \n",
    "                        prev[(i, j + 1)] = (i, j)\n",
    "                        fringe.append((i, j + 1, counter + Manhattan(maze, i, j + 1)))\n",
    "                    #if the fringe is not empty, check the f(n) value and compare with items in fringe\n",
    "                    else:\n",
    "                        for x in range(len(fringe)-1,-1,-1): \n",
    "                            if counter + Manhattan(maze, i, j + 1) > fringe[x][2]:\n",
    "                                if x == 0:\n",
    "                                    fringe.insert(0, (i, j + 1, counter + Manhattan(maze, i, j + 1)))\n",
    "                                    prev[(i, j + 1)] = (i, j)\n",
    "                                else: \n",
    "                                    pass\n",
    "                            else: \n",
    "                                fringe.insert(x + 1, (i, j + 1, counter + Manhattan(maze, i, j + 1)))\n",
    "                                prev[(i, j + 1)] = (i, j)\n",
    "                                break\n",
    "                                \n",
    "\n",
    "        \n",
    "        #check down position\n",
    "        \n",
    "        #are we outside?\n",
    "        if i + 1 >= len(maze):\n",
    "            pass\n",
    "        else:\n",
    "            #is the next position occupied or previously visited?\n",
    "            if maze[i + 1][j] == 1 or maze[i + 1][j] == 0.5:\n",
    "                pass\n",
    "            else:\n",
    "                #check if already in fringe\n",
    "                if (i + 1, j, counter + Manhattan(maze, i + 1, j)) in fringe:\n",
    "                    pass\n",
    "                else:\n",
    "                    #if the fringe was empty (i.e. the first move), just add the first child to fringe\n",
    "                    if len(fringe) == 0: \n",
    "                        prev[(i + 1, j)] = (i, j)\n",
    "                        fringe.append((i + 1, j, counter + Manhattan(maze, i + 1, j)))\n",
    "                    #if the fringe is not empty, check the f(n) value and compare with items in fringe\n",
    "                    else:\n",
    "                        for x in range(len(fringe)-1,-1,-1): \n",
    "                            if counter + Manhattan(maze, i + 1, j) > fringe[x][2]:\n",
    "                                if x == 0:\n",
    "                                    fringe.insert(0, (i + 1, j, counter + Manhattan(maze, i + 1, j)))\n",
    "                                    prev[(i + 1, j)] = (i, j)\n",
    "                                else: \n",
    "                                    pass\n",
    "                            else: \n",
    "                                fringe.insert(x + 1, (i + 1, j, counter + Manhattan(maze, i + 1, j)))\n",
    "                                prev[(i + 1, j)] = (i, j)\n",
    "                                break        \n",
    "        \n",
    "        \n",
    "        \n",
    "        #after done checking, update the maze and start over\n",
    "        update(maze, i, j)\n",
    "        \n",
    "        if video == True:\n",
    "            plt.imshow(maze, cmap=plt.cm.binary)\n",
    "            plt.pause(0.05)\n",
    "    if video == True:\n",
    "        plt.show()\n",
    "        \n",
    "    return solved, solution_length"
   ]
  },
  {
   "cell_type": "code",
   "execution_count": 1136,
   "metadata": {
    "scrolled": false
   },
   "outputs": [],
   "source": [
    "x, y = AstarM(grid(100, 0.3), video = False)"
   ]
  },
  {
   "cell_type": "code",
   "execution_count": 948,
   "metadata": {},
   "outputs": [
    {
     "name": "stdout",
     "output_type": "stream",
     "text": [
      "1 284\n"
     ]
    }
   ],
   "source": [
    "print(x,y)"
   ]
  },
  {
   "cell_type": "code",
   "execution_count": 1057,
   "metadata": {},
   "outputs": [],
   "source": [
    "#Bi-Directional BFS\n",
    "\n",
    "def BiBFS(maze, video):\n",
    "    #initialized state is set to false\n",
    "    #i,j-->row,column from start m,n-->row,column from end\n",
    "    maze_final=np.copy(maze)\n",
    "    solved=False\n",
    "    i,j=0,0\n",
    "    m,n=len(maze)-1,len(maze[0])-1\n",
    "    prev={}\n",
    "    prev2={}\n",
    "    \n",
    "    #initialize fringe for starting point and fringe from ending point\n",
    "    fringeStart=queue.Queue()\n",
    "    fringeStart.put([i,j])\n",
    "    fringeEnd=queue.Queue()\n",
    "    fringeEnd.put([m,n])\n",
    "    \n",
    "    #run loop until start and end meet or no solution\n",
    "    while solved==False:\n",
    "        #if maze is still unsolved and there are no more children left in fringe, maze is unsolvable\n",
    "        if (queue.Queue.qsize(fringeStart)==0 or queue.Queue.qsize(fringeEnd)==0):\n",
    "            #update state of maze, display result, then break loop\n",
    "            update(maze,i,j)\n",
    "            update(maze,m,n)\n",
    "            if video == True:\n",
    "                plt.imshow(maze, cmap=plt.cm.binary)\n",
    "                plt.pause(0.05)\n",
    "            #print(\"UNSOLVABLE\")\n",
    "            #value to be returned for later analysis\n",
    "            solved = 0\n",
    "            solution_length = 0\n",
    "            break\n",
    "            \n",
    "        #gets current node and updates i,j and m,n\n",
    "        currentStart=fringeStart.get()\n",
    "        currentEnd=fringeEnd.get()\n",
    "        i,j=currentStart[0],currentStart[1]\n",
    "        m,n=currentEnd[0],currentEnd[1]\n",
    "        \n",
    "        #check if start and end meet in middle,display result, then break loop\n",
    "        if (i+1,j) in prev2:\n",
    "            m, n = i+1, j\n",
    "            solved = True\n",
    "            \n",
    "        if (i,j+1) in prev2:\n",
    "            m, n = i, j+1\n",
    "            solved = True\n",
    "            \n",
    "        if (i-1,j) in prev2:\n",
    "            m, n = i-1, j\n",
    "            solved = True\n",
    "            \n",
    "        if (i,j-1) in prev2:\n",
    "            m,n = i, j-1\n",
    "            solved = True\n",
    "        \n",
    "        if solved == True:\n",
    "            update(maze,i,j)\n",
    "            update(maze,m,n)\n",
    "            if video == True:\n",
    "                plt.imshow(maze, cmap=plt.cm.binary)\n",
    "                plt.pause(0.05)\n",
    "            #print(\"SOLUTION FOUND\")\n",
    "            #value to be returned for later analysis\n",
    "            solved = 1\n",
    "            solution_length = 1\n",
    "            \n",
    "            update(maze_final,i,j)\n",
    "            update(maze_final,m,n)\n",
    "            if video == True:\n",
    "                plt.imshow(maze_final, cmap=plt.cm.binary)\n",
    "                plt.pause(0.05)\n",
    "\n",
    "            while True:\n",
    "                if i==0 and j==0 and m==len(maze)-1 and n==len(maze[0])-1:\n",
    "                    break\n",
    "\n",
    "                if (i,j) == (0,0):\n",
    "                    y=prev2[(m,n)]\n",
    "                    m,n=y[0],y[1]\n",
    "                    update(maze_final,m,n)\n",
    "                    if video == True:\n",
    "                        plt.imshow(maze_final, cmap=plt.cm.binary)\n",
    "                        plt.pause(0.05)\n",
    "                        \n",
    "                    solution_length += 1\n",
    "                    \n",
    "                elif (m,n) == (len(maze)-1, len(maze[0])-1):\n",
    "                    x=prev[(i,j)]\n",
    "                    i,j=x[0],x[1]\n",
    "                    update(maze_final,i,j)\n",
    "                    update(maze_final,m,n)\n",
    "                    if video == True:\n",
    "                        plt.imshow(maze_final, cmap=plt.cm.binary)\n",
    "                        plt.pause(0.05)\n",
    "                        \n",
    "                    solution_length += 1\n",
    "                    \n",
    "                else:\n",
    "                    x=prev[(i,j)]\n",
    "                    y=prev2[(m,n)]\n",
    "                    i,j=x[0],x[1]\n",
    "                    m,n=y[0],y[1]\n",
    "                    update(maze_final,i,j)\n",
    "                    update(maze_final,m,n)\n",
    "                    if video == True:\n",
    "                        plt.imshow(maze_final, cmap=plt.cm.binary)\n",
    "                        plt.pause(0.05)\n",
    "                        \n",
    "                    solution_length += 2\n",
    "                        \n",
    "\n",
    "            update(maze_final,0,0)\n",
    "            update(maze_final,len(maze)-1,len(maze[0])-1)\n",
    "            if video == True:\n",
    "                plt.imshow(maze_final, cmap=plt.cm.binary)\n",
    "                plt.pause(0.05)\n",
    "\n",
    "            break\n",
    "            \n",
    "        #check down position of i,j\n",
    "        if i + 1 >= len(maze):\n",
    "            pass\n",
    "        else:\n",
    "            #is the next position occupied or previously visited?\n",
    "            if maze[i + 1][j] == 1 or maze[i + 1][j] == 0.5:\n",
    "                pass\n",
    "            else:\n",
    "                #add to fringe if valid and is not already in fringe\n",
    "                if [i + 1, j] in fringeStart.queue:\n",
    "                    pass\n",
    "                else:\n",
    "                    prev[(i + 1, j)] = (i, j)\n",
    "                    fringeStart.put([i + 1, j])\n",
    "                    \n",
    "        #check up position of m,n\n",
    "        if m - 1 < 0:\n",
    "            pass\n",
    "        else:\n",
    "            #is the next position occupied or previously visited?\n",
    "            if maze[m - 1][n] == 1 or maze[m - 1][n] == 0.5:\n",
    "                pass\n",
    "            else:\n",
    "                #add to fringe if valid and is not already in fringe\n",
    "                if [m - 1, n] in fringeEnd.queue:\n",
    "                    pass\n",
    "                else:\n",
    "                    prev2[(m - 1, n)] = (m, n)\n",
    "                    fringeEnd.put([m - 1, n])\n",
    "                    \n",
    "        #check right position of i,j\n",
    "        if j + 1 >= len(maze[i]):\n",
    "            pass\n",
    "        else:\n",
    "            #is the next position occupied or iously visited?\n",
    "            if maze[i][j + 1] == 1 or maze[i][j + 1] == 0.5:\n",
    "                pass\n",
    "            else:\n",
    "                #add to fringe if valid and is not already in fringe\n",
    "                if [i, j + 1] in fringeStart.queue:\n",
    "                    pass\n",
    "                else:\n",
    "                    prev[(i, j + 1)] = (i, j)\n",
    "                    fringeStart.put([i, j + 1])\n",
    "                    \n",
    "        #check left position of m,n\n",
    "        if n - 1 < 0:\n",
    "            pass\n",
    "        else:\n",
    "            #is the next position occupied or previously visited?\n",
    "            if maze[m][n - 1] == 1 or maze[m][n - 1] == 0.5:\n",
    "                pass\n",
    "            else:\n",
    "                #add to fringe if valid and is not already in fringe\n",
    "                if [m, n - 1] in fringeEnd.queue:\n",
    "                    pass\n",
    "                else:\n",
    "                    prev2[(m, n - 1)] = (m, n)\n",
    "                    fringeEnd.put([m, n - 1])\n",
    "                    \n",
    "        #check up position of i,j\n",
    "        if i - 1 < 0:\n",
    "            pass\n",
    "        else:\n",
    "            #is the next position occupied or previously visited?\n",
    "            if maze[i - 1][j] == 1 or maze[i - 1][j] == 0.5:\n",
    "                pass\n",
    "            else:\n",
    "                #add to fringe if valid and is not already in fringe\n",
    "                if [i - 1, j] in fringeStart.queue:\n",
    "                    pass\n",
    "                else:\n",
    "                    prev[(i - 1, j)] = (i, j)\n",
    "                    fringeStart.put([i - 1, j])\n",
    "                    \n",
    "        #check down position of m,n\n",
    "        if m + 1 >= len(maze):\n",
    "            pass\n",
    "        else:\n",
    "            #is the next position occupied or previously visited?\n",
    "            if maze[m + 1][n] == 1 or maze[m + 1][n] == 0.5:\n",
    "                pass\n",
    "            else:\n",
    "                #add to fringe if valid and is not already in fringe\n",
    "                if [m + 1, n] in fringeEnd.queue:\n",
    "                    pass\n",
    "                else:\n",
    "                    prev2[(m + 1, n)] = (m, n)\n",
    "                    fringeEnd.put([m + 1, n])\n",
    "                    \n",
    "        #check left position of i,j\n",
    "        if j - 1 < 0:\n",
    "            pass\n",
    "        else:\n",
    "            #is the next position occupied or previously visited?\n",
    "            if maze[i][j - 1] == 1 or maze[i][j - 1] == 0.5:\n",
    "                pass\n",
    "            else:\n",
    "                #add to fringe if valid and is not already in fringe\n",
    "                if [i, j - 1] in fringeStart.queue:\n",
    "                    pass\n",
    "                else:\n",
    "                    prev[(i, j - 1)] = (i, j)\n",
    "                    fringeStart.put([i, j - 1])\n",
    "                    \n",
    "        #check right position of m,n\n",
    "        if n + 1 >= len(maze[m]):\n",
    "            pass\n",
    "        else:\n",
    "            #is the next position occupied or previously visited?\n",
    "            if maze[m][n + 1] == 1 or maze[m][n + 1] == 0.5:\n",
    "                pass\n",
    "            else:\n",
    "                #add to fringe if valid and is not already in fringe\n",
    "                if [m, n + 1] in fringeEnd.queue:\n",
    "                    pass\n",
    "                else:\n",
    "                    prev2[(m, n + 1)] = (m, n)\n",
    "                    fringeEnd.put([m, n + 1])\n",
    "                    \n",
    "        #after done checking, update maze and start over\n",
    "        update(maze, i, j)\n",
    "        update(maze,m,n)\n",
    "        if video == True:\n",
    "            plt.imshow(maze, cmap=plt.cm.binary)\n",
    "            plt.pause(0.05)\n",
    "    if video == True:        \n",
    "        plt.show()\n",
    "    return solved, solution_length"
   ]
  },
  {
   "cell_type": "code",
   "execution_count": 1005,
   "metadata": {},
   "outputs": [
    {
     "name": "stdout",
     "output_type": "stream",
     "text": [
      "UNSOLVABLE\n"
     ]
    }
   ],
   "source": [
    "x, y = BiBFS(grid(100, 0.4), video = False)"
   ]
  },
  {
   "cell_type": "code",
   "execution_count": 1003,
   "metadata": {},
   "outputs": [
    {
     "name": "stdout",
     "output_type": "stream",
     "text": [
      "1 22\n"
     ]
    }
   ],
   "source": [
    "print(x,y)"
   ]
  },
  {
   "cell_type": "code",
   "execution_count": null,
   "metadata": {},
   "outputs": [],
   "source": []
  },
  {
   "cell_type": "code",
   "execution_count": null,
   "metadata": {},
   "outputs": [],
   "source": []
  },
  {
   "cell_type": "code",
   "execution_count": null,
   "metadata": {},
   "outputs": [],
   "source": []
  },
  {
   "cell_type": "code",
   "execution_count": 1203,
   "metadata": {},
   "outputs": [],
   "source": [
    "a = grid(100, 0.2)\n",
    "b = np.copy(a)\n",
    "c = np.copy(a)\n",
    "d = np.copy(a)\n",
    "e = np.copy(a)"
   ]
  },
  {
   "cell_type": "code",
   "execution_count": 1204,
   "metadata": {},
   "outputs": [
    {
     "data": {
      "image/png": "[encoded data removed]",
      "text/plain": [
       "<Figure size 1080x1080 with 1 Axes>"
      ]
     },
     "metadata": {
      "needs_background": "light"
     },
     "output_type": "display_data"
    },
    {
     "data": {
      "text/plain": [
       "(1, 198)"
      ]
     },
     "execution_count": 1204,
     "metadata": {},
     "output_type": "execute_result"
    }
   ],
   "source": [
    "BFS(a, video = False)"
   ]
  },
  {
   "cell_type": "code",
   "execution_count": 1243,
   "metadata": {},
   "outputs": [
    {
     "name": "stdout",
     "output_type": "stream",
     "text": [
      "0\n",
      "1 3\n"
     ]
    },
    {
     "data": {
      "image/png": "[encoded data removed]",
      "text/plain": [
       "<Figure size 432x288 with 1 Axes>"
      ]
     },
     "metadata": {
      "needs_background": "light"
     },
     "output_type": "display_data"
    },
    {
     "data": {
      "image/png": "[encoded data removed]",
      "text/plain": [
       "<Figure size 432x288 with 1 Axes>"
      ]
     },
     "metadata": {
      "needs_background": "light"
     },
     "output_type": "display_data"
    },
    {
     "data": {
      "image/png": "[encoded data removed]",
      "text/plain": [
       "<Figure size 432x288 with 1 Axes>"
      ]
     },
     "metadata": {
      "needs_background": "light"
     },
     "output_type": "display_data"
    },
    {
     "data": {
      "image/png": "[encoded data removed]",
      "text/plain": [
       "<Figure size 432x288 with 1 Axes>"
      ]
     },
     "metadata": {
      "needs_background": "light"
     },
     "output_type": "display_data"
    },
    {
     "data": {
      "image/png": "[encoded data removed]",
      "text/plain": [
       "<Figure size 432x288 with 1 Axes>"
      ]
     },
     "metadata": {
      "needs_background": "light"
     },
     "output_type": "display_data"
    },
    {
     "data": {
      "image/png": "[encoded data removed]",
      "text/plain": [
       "<Figure size 432x288 with 1 Axes>"
      ]
     },
     "metadata": {
      "needs_background": "light"
     },
     "output_type": "display_data"
    },
    {
     "data": {
      "image/png": "[encoded data removed]",
      "text/plain": [
       "<Figure size 432x288 with 1 Axes>"
      ]
     },
     "metadata": {
      "needs_background": "light"
     },
     "output_type": "display_data"
    },
    {
     "data": {
      "image/png": "[encoded data removed]",
      "text/plain": [
       "<Figure size 432x288 with 1 Axes>"
      ]
     },
     "metadata": {
      "needs_background": "light"
     },
     "output_type": "display_data"
    },
    {
     "data": {
      "image/png": "[encoded data removed]",
      "text/plain": [
       "<Figure size 432x288 with 1 Axes>"
      ]
     },
     "metadata": {
      "needs_background": "light"
     },
     "output_type": "display_data"
    },
    {
     "data": {
      "image/png": "[encoded data removed]",
      "text/plain": [
       "<Figure size 432x288 with 1 Axes>"
      ]
     },
     "metadata": {
      "needs_background": "light"
     },
     "output_type": "display_data"
    },
    {
     "data": {
      "image/png": "[encoded data removed]",
      "text/plain": [
       "<Figure size 432x288 with 1 Axes>"
      ]
     },
     "metadata": {
      "needs_background": "light"
     },
     "output_type": "display_data"
    },
    {
     "data": {
      "image/png": "[encoded data removed]",
      "text/plain": [
       "<Figure size 432x288 with 1 Axes>"
      ]
     },
     "metadata": {
      "needs_background": "light"
     },
     "output_type": "display_data"
    },
    {
     "data": {
      "image/png": "[encoded data removed]",
      "text/plain": [
       "<Figure size 432x288 with 1 Axes>"
      ]
     },
     "metadata": {
      "needs_background": "light"
     },
     "output_type": "display_data"
    },
    {
     "data": {
      "image/png": "[encoded data removed]",
      "text/plain": [
       "<Figure size 432x288 with 1 Axes>"
      ]
     },
     "metadata": {
      "needs_background": "light"
     },
     "output_type": "display_data"
    },
    {
     "data": {
      "image/png": "[encoded data removed]",
      "text/plain": [
       "<Figure size 432x288 with 1 Axes>"
      ]
     },
     "metadata": {
      "needs_background": "light"
     },
     "output_type": "display_data"
    },
    {
     "data": {
      "image/png": "[encoded data removed]",
      "text/plain": [
       "<Figure size 432x288 with 1 Axes>"
      ]
     },
     "metadata": {
      "needs_background": "light"
     },
     "output_type": "display_data"
    },
    {
     "data": {
      "image/png": "[encoded data removed]",
      "text/plain": [
       "<Figure size 432x288 with 1 Axes>"
      ]
     },
     "metadata": {
      "needs_background": "light"
     },
     "output_type": "display_data"
    },
    {
     "data": {
      "image/png": "[encoded data removed]",
      "text/plain": [
       "<Figure size 432x288 with 1 Axes>"
      ]
     },
     "metadata": {
      "needs_background": "light"
     },
     "output_type": "display_data"
    },
    {
     "data": {
      "image/png": "[encoded data removed]",
      "text/plain": [
       "<Figure size 432x288 with 1 Axes>"
      ]
     },
     "metadata": {
      "needs_background": "light"
     },
     "output_type": "display_data"
    },
    {
     "data": {
      "image/png": "[encoded data removed]",
      "text/plain": [
       "<Figure size 432x288 with 1 Axes>"
      ]
     },
     "metadata": {
      "needs_background": "light"
     },
     "output_type": "display_data"
    },
    {
     "data": {
      "image/png": "[encoded data removed]",
      "text/plain": [
       "<Figure size 432x288 with 1 Axes>"
      ]
     },
     "metadata": {
      "needs_background": "light"
     },
     "output_type": "display_data"
    },
    {
     "data": {
      "image/png": "[encoded data removed]",
      "text/plain": [
       "<Figure size 432x288 with 1 Axes>"
      ]
     },
     "metadata": {
      "needs_background": "light"
     },
     "output_type": "display_data"
    },
    {
     "data": {
      "image/png": "[encoded data removed]",
      "text/plain": [
       "<Figure size 432x288 with 1 Axes>"
      ]
     },
     "metadata": {
      "needs_background": "light"
     },
     "output_type": "display_data"
    },
    {
     "data": {
      "image/png": "[encoded data removed]",
      "text/plain": [
       "<Figure size 432x288 with 1 Axes>"
      ]
     },
     "metadata": {
      "needs_background": "light"
     },
     "output_type": "display_data"
    },
    {
     "data": {
      "image/png": "[encoded data removed]",
      "text/plain": [
       "<Figure size 432x288 with 1 Axes>"
      ]
     },
     "metadata": {
      "needs_background": "light"
     },
     "output_type": "display_data"
    },
    {
     "data": {
      "image/png": "[encoded data removed]",
      "text/plain": [
       "<Figure size 432x288 with 1 Axes>"
      ]
     },
     "metadata": {
      "needs_background": "light"
     },
     "output_type": "display_data"
    },
    {
     "data": {
      "image/png": "[encoded data removed]",
      "text/plain": [
       "<Figure size 432x288 with 1 Axes>"
      ]
     },
     "metadata": {
      "needs_background": "light"
     },
     "output_type": "display_data"
    },
    {
     "data": {
      "image/png": "[encoded data removed]",
      "text/plain": [
       "<Figure size 432x288 with 1 Axes>"
      ]
     },
     "metadata": {
      "needs_background": "light"
     },
     "output_type": "display_data"
    },
    {
     "data": {
      "image/png": "[encoded data removed]",
      "text/plain": [
       "<Figure size 432x288 with 1 Axes>"
      ]
     },
     "metadata": {
      "needs_background": "light"
     },
     "output_type": "display_data"
    },
    {
     "data": {
      "image/png": "[encoded data removed]",
      "text/plain": [
       "<Figure size 432x288 with 1 Axes>"
      ]
     },
     "metadata": {
      "needs_background": "light"
     },
     "output_type": "display_data"
    },
    {
     "data": {
      "image/png": "[encoded data removed]",
      "text/plain": [
       "<Figure size 432x288 with 1 Axes>"
      ]
     },
     "metadata": {
      "needs_background": "light"
     },
     "output_type": "display_data"
    },
    {
     "name": "stdout",
     "output_type": "stream",
     "text": [
      "1\n",
      "3 2\n"
     ]
    },
    {
     "data": {
      "image/png": "[encoded data removed]",
      "text/plain": [
       "<Figure size 432x288 with 1 Axes>"
      ]
     },
     "metadata": {
      "needs_background": "light"
     },
     "output_type": "display_data"
    },
    {
     "data": {
      "image/png": "[encoded data removed]",
      "text/plain": [
       "<Figure size 432x288 with 1 Axes>"
      ]
     },
     "metadata": {
      "needs_background": "light"
     },
     "output_type": "display_data"
    },
    {
     "data": {
      "image/png": "[encoded data removed]",
      "text/plain": [
       "<Figure size 432x288 with 1 Axes>"
      ]
     },
     "metadata": {
      "needs_background": "light"
     },
     "output_type": "display_data"
    },
    {
     "data": {
      "image/png": "[encoded data removed]",
      "text/plain": [
       "<Figure size 432x288 with 1 Axes>"
      ]
     },
     "metadata": {
      "needs_background": "light"
     },
     "output_type": "display_data"
    },
    {
     "data": {
      "image/png": "[encoded data removed]",
      "text/plain": [
       "<Figure size 432x288 with 1 Axes>"
      ]
     },
     "metadata": {
      "needs_background": "light"
     },
     "output_type": "display_data"
    },
    {
     "data": {
      "image/png": "[encoded data removed]",
      "text/plain": [
       "<Figure size 432x288 with 1 Axes>"
      ]
     },
     "metadata": {
      "needs_background": "light"
     },
     "output_type": "display_data"
    },
    {
     "data": {
      "image/png": "[encoded data removed]",
      "text/plain": [
       "<Figure size 432x288 with 1 Axes>"
      ]
     },
     "metadata": {
      "needs_background": "light"
     },
     "output_type": "display_data"
    },
    {
     "data": {
      "image/png": "[encoded data removed]",
      "text/plain": [
       "<Figure size 432x288 with 1 Axes>"
      ]
     },
     "metadata": {
      "needs_background": "light"
     },
     "output_type": "display_data"
    },
    {
     "data": {
      "image/png": "[encoded data removed]",
      "text/plain": [
       "<Figure size 432x288 with 1 Axes>"
      ]
     },
     "metadata": {
      "needs_background": "light"
     },
     "output_type": "display_data"
    },
    {
     "data": {
      "image/png": "[encoded data removed]",
      "text/plain": [
       "<Figure size 432x288 with 1 Axes>"
      ]
     },
     "metadata": {
      "needs_background": "light"
     },
     "output_type": "display_data"
    },
    {
     "data": {
      "image/png": "[encoded data removed]",
      "text/plain": [
       "<Figure size 432x288 with 1 Axes>"
      ]
     },
     "metadata": {
      "needs_background": "light"
     },
     "output_type": "display_data"
    },
    {
     "data": {
      "image/png": "[encoded data removed]",
      "text/plain": [
       "<Figure size 432x288 with 1 Axes>"
      ]
     },
     "metadata": {
      "needs_background": "light"
     },
     "output_type": "display_data"
    },
    {
     "data": {
      "image/png": "[encoded data removed]",
      "text/plain": [
       "<Figure size 432x288 with 1 Axes>"
      ]
     },
     "metadata": {
      "needs_background": "light"
     },
     "output_type": "display_data"
    },
    {
     "data": {
      "image/png": "[encoded data removed]",
      "text/plain": [
       "<Figure size 432x288 with 1 Axes>"
      ]
     },
     "metadata": {
      "needs_background": "light"
     },
     "output_type": "display_data"
    },
    {
     "data": {
      "image/png": "[encoded data removed]",
      "text/plain": [
       "<Figure size 432x288 with 1 Axes>"
      ]
     },
     "metadata": {
      "needs_background": "light"
     },
     "output_type": "display_data"
    },
    {
     "data": {
      "image/png": "[encoded data removed]",
      "text/plain": [
       "<Figure size 432x288 with 1 Axes>"
      ]
     },
     "metadata": {
      "needs_background": "light"
     },
     "output_type": "display_data"
    },
    {
     "data": {
      "image/png": "[encoded data removed]",
      "text/plain": [
       "<Figure size 432x288 with 1 Axes>"
      ]
     },
     "metadata": {
      "needs_background": "light"
     },
     "output_type": "display_data"
    },
    {
     "data": {
      "image/png": "[encoded data removed]",
      "text/plain": [
       "<Figure size 432x288 with 1 Axes>"
      ]
     },
     "metadata": {
      "needs_background": "light"
     },
     "output_type": "display_data"
    },
    {
     "data": {
      "image/png": "[encoded data removed]",
      "text/plain": [
       "<Figure size 432x288 with 1 Axes>"
      ]
     },
     "metadata": {
      "needs_background": "light"
     },
     "output_type": "display_data"
    },
    {
     "data": {
      "image/png": "[encoded data removed]",
      "text/plain": [
       "<Figure size 432x288 with 1 Axes>"
      ]
     },
     "metadata": {
      "needs_background": "light"
     },
     "output_type": "display_data"
    },
    {
     "data": {
      "image/png": "[encoded data removed]",
      "text/plain": [
       "<Figure size 432x288 with 1 Axes>"
      ]
     },
     "metadata": {
      "needs_background": "light"
     },
     "output_type": "display_data"
    },
    {
     "data": {
      "image/png": "[encoded data removed]",
      "text/plain": [
       "<Figure size 432x288 with 1 Axes>"
      ]
     },
     "metadata": {
      "needs_background": "light"
     },
     "output_type": "display_data"
    },
    {
     "data": {
      "image/png": "[encoded data removed]",
      "text/plain": [
       "<Figure size 432x288 with 1 Axes>"
      ]
     },
     "metadata": {
      "needs_background": "light"
     },
     "output_type": "display_data"
    },
    {
     "data": {
      "image/png": "[encoded data removed]",
      "text/plain": [
       "<Figure size 432x288 with 1 Axes>"
      ]
     },
     "metadata": {
      "needs_background": "light"
     },
     "output_type": "display_data"
    },
    {
     "data": {
      "image/png": "[encoded data removed]",
      "text/plain": [
       "<Figure size 432x288 with 1 Axes>"
      ]
     },
     "metadata": {
      "needs_background": "light"
     },
     "output_type": "display_data"
    },
    {
     "data": {
      "image/png": "[encoded data removed]",
      "text/plain": [
       "<Figure size 432x288 with 1 Axes>"
      ]
     },
     "metadata": {
      "needs_background": "light"
     },
     "output_type": "display_data"
    },
    {
     "data": {
      "image/png": "[encoded data removed]",
      "text/plain": [
       "<Figure size 432x288 with 1 Axes>"
      ]
     },
     "metadata": {
      "needs_background": "light"
     },
     "output_type": "display_data"
    },
    {
     "data": {
      "image/png": "[encoded data removed]",
      "text/plain": [
       "<Figure size 432x288 with 1 Axes>"
      ]
     },
     "metadata": {
      "needs_background": "light"
     },
     "output_type": "display_data"
    },
    {
     "data": {
      "image/png": "[encoded data removed]",
      "text/plain": [
       "<Figure size 432x288 with 1 Axes>"
      ]
     },
     "metadata": {
      "needs_background": "light"
     },
     "output_type": "display_data"
    },
    {
     "data": {
      "image/png": "[encoded data removed]",
      "text/plain": [
       "<Figure size 432x288 with 1 Axes>"
      ]
     },
     "metadata": {
      "needs_background": "light"
     },
     "output_type": "display_data"
    },
    {
     "name": "stdout",
     "output_type": "stream",
     "text": [
      "2\n",
      "1 1\n"
     ]
    },
    {
     "data": {
      "image/png": "[encoded data removed]",
      "text/plain": [
       "<Figure size 432x288 with 1 Axes>"
      ]
     },
     "metadata": {
      "needs_background": "light"
     },
     "output_type": "display_data"
    },
    {
     "data": {
      "image/png": "[encoded data removed]",
      "text/plain": [
       "<Figure size 432x288 with 1 Axes>"
      ]
     },
     "metadata": {
      "needs_background": "light"
     },
     "output_type": "display_data"
    },
    {
     "data": {
      "image/png": "[encoded data removed]",
      "text/plain": [
       "<Figure size 432x288 with 1 Axes>"
      ]
     },
     "metadata": {
      "needs_background": "light"
     },
     "output_type": "display_data"
    },
    {
     "data": {
      "image/png": "[encoded data removed]",
      "text/plain": [
       "<Figure size 432x288 with 1 Axes>"
      ]
     },
     "metadata": {
      "needs_background": "light"
     },
     "output_type": "display_data"
    },
    {
     "data": {
      "image/png": "[encoded data removed]",
      "text/plain": [
       "<Figure size 432x288 with 1 Axes>"
      ]
     },
     "metadata": {
      "needs_background": "light"
     },
     "output_type": "display_data"
    },
    {
     "data": {
      "image/png": "[encoded data removed]",
      "text/plain": [
       "<Figure size 432x288 with 1 Axes>"
      ]
     },
     "metadata": {
      "needs_background": "light"
     },
     "output_type": "display_data"
    },
    {
     "data": {
      "image/png": "[encoded data removed]",
      "text/plain": [
       "<Figure size 432x288 with 1 Axes>"
      ]
     },
     "metadata": {
      "needs_background": "light"
     },
     "output_type": "display_data"
    },
    {
     "data": {
      "image/png": "[encoded data removed]",
      "text/plain": [
       "<Figure size 432x288 with 1 Axes>"
      ]
     },
     "metadata": {
      "needs_background": "light"
     },
     "output_type": "display_data"
    },
    {
     "data": {
      "image/png": "[encoded data removed]",
      "text/plain": [
       "<Figure size 432x288 with 1 Axes>"
      ]
     },
     "metadata": {
      "needs_background": "light"
     },
     "output_type": "display_data"
    },
    {
     "data": {
      "image/png": "[encoded data removed]",
      "text/plain": [
       "<Figure size 432x288 with 1 Axes>"
      ]
     },
     "metadata": {
      "needs_background": "light"
     },
     "output_type": "display_data"
    },
    {
     "data": {
      "image/png": "[encoded data removed]",
      "text/plain": [
       "<Figure size 432x288 with 1 Axes>"
      ]
     },
     "metadata": {
      "needs_background": "light"
     },
     "output_type": "display_data"
    },
    {
     "data": {
      "image/png": "[encoded data removed]",
      "text/plain": [
       "<Figure size 432x288 with 1 Axes>"
      ]
     },
     "metadata": {
      "needs_background": "light"
     },
     "output_type": "display_data"
    },
    {
     "data": {
      "image/png": "[encoded data removed]",
      "text/plain": [
       "<Figure size 432x288 with 1 Axes>"
      ]
     },
     "metadata": {
      "needs_background": "light"
     },
     "output_type": "display_data"
    },
    {
     "data": {
      "image/png": "[encoded data removed]",
      "text/plain": [
       "<Figure size 432x288 with 1 Axes>"
      ]
     },
     "metadata": {
      "needs_background": "light"
     },
     "output_type": "display_data"
    },
    {
     "data": {
      "image/png": "[encoded data removed]",
      "text/plain": [
       "<Figure size 432x288 with 1 Axes>"
      ]
     },
     "metadata": {
      "needs_background": "light"
     },
     "output_type": "display_data"
    },
    {
     "data": {
      "image/png": "[encoded data removed]",
      "text/plain": [
       "<Figure size 432x288 with 1 Axes>"
      ]
     },
     "metadata": {
      "needs_background": "light"
     },
     "output_type": "display_data"
    },
    {
     "data": {
      "image/png": "[encoded data removed]",
      "text/plain": [
       "<Figure size 432x288 with 1 Axes>"
      ]
     },
     "metadata": {
      "needs_background": "light"
     },
     "output_type": "display_data"
    },
    {
     "data": {
      "image/png": "[encoded data removed]",
      "text/plain": [
       "<Figure size 432x288 with 1 Axes>"
      ]
     },
     "metadata": {
      "needs_background": "light"
     },
     "output_type": "display_data"
    },
    {
     "data": {
      "image/png": "[encoded data removed]",
      "text/plain": [
       "<Figure size 432x288 with 1 Axes>"
      ]
     },
     "metadata": {
      "needs_background": "light"
     },
     "output_type": "display_data"
    },
    {
     "data": {
      "image/png": "[encoded data removed]",
      "text/plain": [
       "<Figure size 432x288 with 1 Axes>"
      ]
     },
     "metadata": {
      "needs_background": "light"
     },
     "output_type": "display_data"
    },
    {
     "data": {
      "image/png": "[encoded data removed]",
      "text/plain": [
       "<Figure size 432x288 with 1 Axes>"
      ]
     },
     "metadata": {
      "needs_background": "light"
     },
     "output_type": "display_data"
    },
    {
     "data": {
      "image/png": "[encoded data removed]",
      "text/plain": [
       "<Figure size 432x288 with 1 Axes>"
      ]
     },
     "metadata": {
      "needs_background": "light"
     },
     "output_type": "display_data"
    },
    {
     "data": {
      "image/png": "[encoded data removed]",
      "text/plain": [
       "<Figure size 432x288 with 1 Axes>"
      ]
     },
     "metadata": {
      "needs_background": "light"
     },
     "output_type": "display_data"
    },
    {
     "data": {
      "image/png": "[encoded data removed]",
      "text/plain": [
       "<Figure size 432x288 with 1 Axes>"
      ]
     },
     "metadata": {
      "needs_background": "light"
     },
     "output_type": "display_data"
    },
    {
     "data": {
      "image/png": "[encoded data removed]",
      "text/plain": [
       "<Figure size 432x288 with 1 Axes>"
      ]
     },
     "metadata": {
      "needs_background": "light"
     },
     "output_type": "display_data"
    },
    {
     "data": {
      "image/png": "[encoded data removed]",
      "text/plain": [
       "<Figure size 432x288 with 1 Axes>"
      ]
     },
     "metadata": {
      "needs_background": "light"
     },
     "output_type": "display_data"
    },
    {
     "data": {
      "image/png": "[encoded data removed]",
      "text/plain": [
       "<Figure size 432x288 with 1 Axes>"
      ]
     },
     "metadata": {
      "needs_background": "light"
     },
     "output_type": "display_data"
    },
    {
     "data": {
      "image/png": "[encoded data removed]",
      "text/plain": [
       "<Figure size 432x288 with 1 Axes>"
      ]
     },
     "metadata": {
      "needs_background": "light"
     },
     "output_type": "display_data"
    },
    {
     "data": {
      "image/png": "[encoded data removed]",
      "text/plain": [
       "<Figure size 432x288 with 1 Axes>"
      ]
     },
     "metadata": {
      "needs_background": "light"
     },
     "output_type": "display_data"
    },
    {
     "name": "stdout",
     "output_type": "stream",
     "text": [
      "3\n",
      "3 1\n"
     ]
    },
    {
     "data": {
      "image/png": "[encoded data removed]",
      "text/plain": [
       "<Figure size 432x288 with 1 Axes>"
      ]
     },
     "metadata": {
      "needs_background": "light"
     },
     "output_type": "display_data"
    },
    {
     "data": {
      "image/png": "[encoded data removed]",
      "text/plain": [
       "<Figure size 432x288 with 1 Axes>"
      ]
     },
     "metadata": {
      "needs_background": "light"
     },
     "output_type": "display_data"
    },
    {
     "data": {
      "image/png": "[encoded data removed]",
      "text/plain": [
       "<Figure size 432x288 with 1 Axes>"
      ]
     },
     "metadata": {
      "needs_background": "light"
     },
     "output_type": "display_data"
    },
    {
     "data": {
      "image/png": "[encoded data removed]",
      "text/plain": [
       "<Figure size 432x288 with 1 Axes>"
      ]
     },
     "metadata": {
      "needs_background": "light"
     },
     "output_type": "display_data"
    },
    {
     "data": {
      "image/png": "[encoded data removed]",
      "text/plain": [
       "<Figure size 432x288 with 1 Axes>"
      ]
     },
     "metadata": {
      "needs_background": "light"
     },
     "output_type": "display_data"
    },
    {
     "data": {
      "image/png": "[encoded data removed]",
      "text/plain": [
       "<Figure size 432x288 with 1 Axes>"
      ]
     },
     "metadata": {
      "needs_background": "light"
     },
     "output_type": "display_data"
    },
    {
     "data": {
      "image/png": "[encoded data removed]",
      "text/plain": [
       "<Figure size 432x288 with 1 Axes>"
      ]
     },
     "metadata": {
      "needs_background": "light"
     },
     "output_type": "display_data"
    },
    {
     "data": {
      "image/png": "[encoded data removed]",
      "text/plain": [
       "<Figure size 432x288 with 1 Axes>"
      ]
     },
     "metadata": {
      "needs_background": "light"
     },
     "output_type": "display_data"
    },
    {
     "data": {
      "image/png": "[encoded data removed]",
      "text/plain": [
       "<Figure size 432x288 with 1 Axes>"
      ]
     },
     "metadata": {
      "needs_background": "light"
     },
     "output_type": "display_data"
    },
    {
     "data": {
      "image/png": "[encoded data removed]",
      "text/plain": [
       "<Figure size 432x288 with 1 Axes>"
      ]
     },
     "metadata": {
      "needs_background": "light"
     },
     "output_type": "display_data"
    },
    {
     "data": {
      "image/png": "[encoded data removed]",
      "text/plain": [
       "<Figure size 432x288 with 1 Axes>"
      ]
     },
     "metadata": {
      "needs_background": "light"
     },
     "output_type": "display_data"
    },
    {
     "data": {
      "image/png": "[encoded data removed]",
      "text/plain": [
       "<Figure size 432x288 with 1 Axes>"
      ]
     },
     "metadata": {
      "needs_background": "light"
     },
     "output_type": "display_data"
    },
    {
     "data": {
      "image/png": "[encoded data removed]",
      "text/plain": [
       "<Figure size 432x288 with 1 Axes>"
      ]
     },
     "metadata": {
      "needs_background": "light"
     },
     "output_type": "display_data"
    },
    {
     "data": {
      "image/png": "[encoded data removed]",
      "text/plain": [
       "<Figure size 432x288 with 1 Axes>"
      ]
     },
     "metadata": {
      "needs_background": "light"
     },
     "output_type": "display_data"
    },
    {
     "data": {
      "image/png": "[encoded data removed]",
      "text/plain": [
       "<Figure size 432x288 with 1 Axes>"
      ]
     },
     "metadata": {
      "needs_background": "light"
     },
     "output_type": "display_data"
    },
    {
     "data": {
      "image/png": "[encoded data removed]",
      "text/plain": [
       "<Figure size 432x288 with 1 Axes>"
      ]
     },
     "metadata": {
      "needs_background": "light"
     },
     "output_type": "display_data"
    },
    {
     "data": {
      "image/png": "[encoded data removed]",
      "text/plain": [
       "<Figure size 432x288 with 1 Axes>"
      ]
     },
     "metadata": {
      "needs_background": "light"
     },
     "output_type": "display_data"
    },
    {
     "data": {
      "image/png": "[encoded data removed]",
      "text/plain": [
       "<Figure size 432x288 with 1 Axes>"
      ]
     },
     "metadata": {
      "needs_background": "light"
     },
     "output_type": "display_data"
    },
    {
     "data": {
      "image/png": "[encoded data removed]",
      "text/plain": [
       "<Figure size 432x288 with 1 Axes>"
      ]
     },
     "metadata": {
      "needs_background": "light"
     },
     "output_type": "display_data"
    },
    {
     "data": {
      "image/png": "[encoded data removed]",
      "text/plain": [
       "<Figure size 432x288 with 1 Axes>"
      ]
     },
     "metadata": {
      "needs_background": "light"
     },
     "output_type": "display_data"
    },
    {
     "data": {
      "image/png": "[encoded data removed]",
      "text/plain": [
       "<Figure size 432x288 with 1 Axes>"
      ]
     },
     "metadata": {
      "needs_background": "light"
     },
     "output_type": "display_data"
    },
    {
     "data": {
      "image/png": "[encoded data removed]",
      "text/plain": [
       "<Figure size 432x288 with 1 Axes>"
      ]
     },
     "metadata": {
      "needs_background": "light"
     },
     "output_type": "display_data"
    },
    {
     "data": {
      "image/png": "[encoded data removed]",
      "text/plain": [
       "<Figure size 432x288 with 1 Axes>"
      ]
     },
     "metadata": {
      "needs_background": "light"
     },
     "output_type": "display_data"
    },
    {
     "data": {
      "image/png": "[encoded data removed]",
      "text/plain": [
       "<Figure size 432x288 with 1 Axes>"
      ]
     },
     "metadata": {
      "needs_background": "light"
     },
     "output_type": "display_data"
    },
    {
     "data": {
      "image/png": "[encoded data removed]",
      "text/plain": [
       "<Figure size 432x288 with 1 Axes>"
      ]
     },
     "metadata": {
      "needs_background": "light"
     },
     "output_type": "display_data"
    },
    {
     "data": {
      "image/png": "[encoded data removed]",
      "text/plain": [
       "<Figure size 432x288 with 1 Axes>"
      ]
     },
     "metadata": {
      "needs_background": "light"
     },
     "output_type": "display_data"
    },
    {
     "data": {
      "image/png": "[encoded data removed]",
      "text/plain": [
       "<Figure size 432x288 with 1 Axes>"
      ]
     },
     "metadata": {
      "needs_background": "light"
     },
     "output_type": "display_data"
    },
    {
     "data": {
      "image/png": "[encoded data removed]",
      "text/plain": [
       "<Figure size 432x288 with 1 Axes>"
      ]
     },
     "metadata": {
      "needs_background": "light"
     },
     "output_type": "display_data"
    },
    {
     "name": "stdout",
     "output_type": "stream",
     "text": [
      "4\n",
      "1 2\n"
     ]
    },
    {
     "data": {
      "image/png": "[encoded data removed]",
      "text/plain": [
       "<Figure size 432x288 with 1 Axes>"
      ]
     },
     "metadata": {
      "needs_background": "light"
     },
     "output_type": "display_data"
    },
    {
     "data": {
      "image/png": "[encoded data removed]",
      "text/plain": [
       "<Figure size 432x288 with 1 Axes>"
      ]
     },
     "metadata": {
      "needs_background": "light"
     },
     "output_type": "display_data"
    },
    {
     "data": {
      "image/png": "[encoded data removed]",
      "text/plain": [
       "<Figure size 432x288 with 1 Axes>"
      ]
     },
     "metadata": {
      "needs_background": "light"
     },
     "output_type": "display_data"
    },
    {
     "data": {
      "image/png": "[encoded data removed]",
      "text/plain": [
       "<Figure size 432x288 with 1 Axes>"
      ]
     },
     "metadata": {
      "needs_background": "light"
     },
     "output_type": "display_data"
    },
    {
     "data": {
      "image/png": "[encoded data removed]",
      "text/plain": [
       "<Figure size 432x288 with 1 Axes>"
      ]
     },
     "metadata": {
      "needs_background": "light"
     },
     "output_type": "display_data"
    },
    {
     "data": {
      "image/png": "[encoded data removed]",
      "text/plain": [
       "<Figure size 432x288 with 1 Axes>"
      ]
     },
     "metadata": {
      "needs_background": "light"
     },
     "output_type": "display_data"
    },
    {
     "data": {
      "image/png": "[encoded data removed]",
      "text/plain": [
       "<Figure size 432x288 with 1 Axes>"
      ]
     },
     "metadata": {
      "needs_background": "light"
     },
     "output_type": "display_data"
    },
    {
     "data": {
      "image/png": "[encoded data removed]",
      "text/plain": [
       "<Figure size 432x288 with 1 Axes>"
      ]
     },
     "metadata": {
      "needs_background": "light"
     },
     "output_type": "display_data"
    },
    {
     "data": {
      "image/png": "[encoded data removed]",
      "text/plain": [
       "<Figure size 432x288 with 1 Axes>"
      ]
     },
     "metadata": {
      "needs_background": "light"
     },
     "output_type": "display_data"
    },
    {
     "data": {
      "image/png": "[encoded data removed]",
      "text/plain": [
       "<Figure size 432x288 with 1 Axes>"
      ]
     },
     "metadata": {
      "needs_background": "light"
     },
     "output_type": "display_data"
    },
    {
     "data": {
      "image/png": "[encoded data removed]",
      "text/plain": [
       "<Figure size 432x288 with 1 Axes>"
      ]
     },
     "metadata": {
      "needs_background": "light"
     },
     "output_type": "display_data"
    },
    {
     "data": {
      "image/png": "[encoded data removed]",
      "text/plain": [
       "<Figure size 432x288 with 1 Axes>"
      ]
     },
     "metadata": {
      "needs_background": "light"
     },
     "output_type": "display_data"
    },
    {
     "data": {
      "image/png": "[encoded data removed]",
      "text/plain": [
       "<Figure size 432x288 with 1 Axes>"
      ]
     },
     "metadata": {
      "needs_background": "light"
     },
     "output_type": "display_data"
    },
    {
     "data": {
      "image/png": "[encoded data removed]",
      "text/plain": [
       "<Figure size 432x288 with 1 Axes>"
      ]
     },
     "metadata": {
      "needs_background": "light"
     },
     "output_type": "display_data"
    },
    {
     "data": {
      "image/png": "[encoded data removed]",
      "text/plain": [
       "<Figure size 432x288 with 1 Axes>"
      ]
     },
     "metadata": {
      "needs_background": "light"
     },
     "output_type": "display_data"
    },
    {
     "data": {
      "image/png": "[encoded data removed]",
      "text/plain": [
       "<Figure size 432x288 with 1 Axes>"
      ]
     },
     "metadata": {
      "needs_background": "light"
     },
     "output_type": "display_data"
    },
    {
     "data": {
      "image/png": "[encoded data removed]",
      "text/plain": [
       "<Figure size 432x288 with 1 Axes>"
      ]
     },
     "metadata": {
      "needs_background": "light"
     },
     "output_type": "display_data"
    },
    {
     "data": {
      "image/png": "[encoded data removed]",
      "text/plain": [
       "<Figure size 432x288 with 1 Axes>"
      ]
     },
     "metadata": {
      "needs_background": "light"
     },
     "output_type": "display_data"
    },
    {
     "data": {
      "image/png": "[encoded data removed]",
      "text/plain": [
       "<Figure size 432x288 with 1 Axes>"
      ]
     },
     "metadata": {
      "needs_background": "light"
     },
     "output_type": "display_data"
    },
    {
     "data": {
      "image/png": "[encoded data removed]",
      "text/plain": [
       "<Figure size 432x288 with 1 Axes>"
      ]
     },
     "metadata": {
      "needs_background": "light"
     },
     "output_type": "display_data"
    },
    {
     "data": {
      "image/png": "[encoded data removed]",
      "text/plain": [
       "<Figure size 432x288 with 1 Axes>"
      ]
     },
     "metadata": {
      "needs_background": "light"
     },
     "output_type": "display_data"
    },
    {
     "data": {
      "image/png": "[encoded data removed]",
      "text/plain": [
       "<Figure size 432x288 with 1 Axes>"
      ]
     },
     "metadata": {
      "needs_background": "light"
     },
     "output_type": "display_data"
    },
    {
     "name": "stdout",
     "output_type": "stream",
     "text": [
      "5\n",
      "no solution\n",
      "no solution\n",
      "no solution\n",
      "no solution\n",
      "no solution\n",
      "None\n"
     ]
    }
   ],
   "source": [
    "#maze is filled with empty and obstacles\n",
    "def randomWalk(maze,times_changed):\n",
    "    print(times_changed)\n",
    "    if times_changed > 4:\n",
    "        return maze\n",
    "    else:\n",
    "        mazeOriginal=np.copy(maze)\n",
    "        maze2 = np.copy(maze)\n",
    "        #call BFS with original maze\n",
    "        x=BFS(maze2,video=False)\n",
    "        pathLength1=x[1]\n",
    "        #if BFS is solvable\n",
    "        if x[0]==1:\n",
    "            y=random.random()\n",
    "            #add obstacle\n",
    "            if y > 0:\n",
    "                while True:\n",
    "                    i=random.randint(1,len(maze)-2)\n",
    "                    j=random.randint(1,len(maze)-2)\n",
    "                    #if we pick obstacle, pass\n",
    "                    if maze[i][j]==1:\n",
    "                        pass\n",
    "                    #empty cell selected\n",
    "                    else:\n",
    "                        #obstacle added in blank cell\n",
    "                        print(i, j)\n",
    "                        maze[i][j]=1\n",
    "                        mazeEdited=np.copy(maze)\n",
    "                        break\n",
    "            #delete obstacle\n",
    "            else:\n",
    "                while True:\n",
    "                    m=random.randint(1,len(maze)-2)\n",
    "                    n=random.randint(1,len(maze)-2)\n",
    "                    #if we pick empty cell,pass\n",
    "                    if maze[m][n]==0:\n",
    "                        pass\n",
    "                    #obstcle cell selected\n",
    "                    else:\n",
    "                        #obstcle deleted from obstacle cell\n",
    "                        print(m, n)\n",
    "                        maze[m][n]=0\n",
    "                        mazeEdited=np.copy(maze)\n",
    "                        break\n",
    "            \n",
    "            #call BFS with new maze\n",
    "            y=BFS(mazeEdited,video=True)\n",
    "            #path length of edited maze\n",
    "            pathLength2=y[1]\n",
    "            if pathLength2>=pathLength1:\n",
    "                times_changed += 1\n",
    "                randomWalk(maze,times_changed)\n",
    "            #if new path is better, call RW with edited maze\n",
    "            else:\n",
    "                #increase times_changed\n",
    "                randomWalk(mazeOriginal,times_changed)\n",
    "    print('no solution')\n",
    "\n",
    "a=randomWalk(grid(5,0.2),0)\n",
    "print(a)"
   ]
  },
  {
   "cell_type": "raw",
   "metadata": {},
   "source": []
  }
 ],
 "metadata": {
  "kernelspec": {
   "display_name": "Python 3",
   "language": "python",
   "name": "python3"
  },
  "language_info": {
   "codemirror_mode": {
    "name": "ipython",
    "version": 3
   },
   "file_extension": ".py",
   "mimetype": "text/x-python",
   "name": "python",
   "nbconvert_exporter": "python",
   "pygments_lexer": "ipython3",
   "version": "3.7.3"
  }
 },
 "nbformat": 4,
 "nbformat_minor": 2
}
